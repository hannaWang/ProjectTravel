{
 "cells": [
  {
   "cell_type": "markdown",
   "metadata": {},
   "source": [
    "# 燦星\n",
    "- 1.先進入燦星日本館取得所有商品列表(標題, 連結, 價格)\n",
    "- 2.再進入商品頁取得行程資料"
   ]
  },
  {
   "cell_type": "code",
   "execution_count": 18,
   "metadata": {
    "collapsed": false
   },
   "outputs": [
    {
     "name": "stdout",
     "output_type": "stream",
     "text": [
      "['h']\n"
     ]
    }
   ],
   "source": [
    "#測試：透過標籤屬性值選取標籤\n",
    "#1.正規表達:import re\n",
    "#2.if條件式\n",
    "#3.List使用\n",
    "\n",
    "import re    #使用Re:正規表達法\n",
    "from bs4 import BeautifulSoup\n",
    "t = '<html>    <a id=\"ys12345\" t=\"12\">yes</a>    <a id=\"ys23456\" t=\"h\">no</a>    <a id=\"no23456\" t=\"13\">noo</a>    </html>'\n",
    "soup = BeautifulSoup(t,'html.parser')\n",
    "print [x['t'].encode('utf-8') for x in soup.select('a') if re.search('ys\\w+6$',x['id'])]    #若符合條件,回傳x放入list[]"
   ]
  },
  {
   "cell_type": "markdown",
   "metadata": {},
   "source": [
    "### 燦星日本館\n",
    "- 行程編號\n",
    "- 網址\n",
    "- 標題\n",
    "- list[變數], 變數：行程編號,網址,標題, 再放入字典"
   ]
  },
  {
   "cell_type": "code",
   "execution_count": 2,
   "metadata": {
    "collapsed": false
   },
   "outputs": [
    {
     "name": "stdout",
     "output_type": "stream",
     "text": [
      "東京-高雄出發旅遊 - 高雄出發~【時尚東京】迪士尼樂園．輕鬆半自助 5天 http://www.startravel.com.tw/StarTravel.Web.IGRP.Prod.V2/AProd.aspx?Prod_No=IGRP000016913 IGRP000016913 28,800元起\n"
     ]
    },
    {
     "data": {
      "text/plain": [
       "'\\xe6\\x88\\x96 \\xe6\\x97\\xa5\\xe6\\x9c\\xac\\xe9\\xa4\\xa8\\xe9\\xa0\\x81\\xe9\\x9d\\xa2\\xe7\\x9a\\x84\\xe5\\x83\\xb9\\xe6\\xa0\\xbc\\xe5\\x8d\\x80\\xe5\\xa1\\x8a\\xe5\\x8c\\x85\\xe5\\x90\\xab(\\xe6\\xa8\\x99\\xe9\\xa1\\x8c,\\xe8\\xa1\\x8c\\xe7\\xa8\\x8b,\\xe9\\x80\\xa3\\xe7\\xb5\\x90,\\xe5\\x83\\xb9\\xe6\\xa0\\xbc)\\ntours=[]\\nimport re\\nfor t in soup.select(\\'.priceR a\\'):\\n    if re.search(\\'Product1_GridView1_ctl(\\\\d+)_GridView2_ctl(\\\\d+)_HyperLink2\\',t[\\'id\\']):\\n        print t\\n        print \"-----------------------------------------------------------------------------\"\\n'"
      ]
     },
     "execution_count": 2,
     "metadata": {},
     "output_type": "execute_result"
    }
   ],
   "source": [
    "#一筆\n",
    "import requests\n",
    "from bs4 import BeautifulSoup\n",
    "res = requests.get('http://www.startravel.com.tw/outbound/JP/index.html',verify=False)\n",
    "res.encoding = 'utf-8' \n",
    "#print res.encoding    #.encoding:修改查看編碼\n",
    "#print res.text\n",
    "#標題連結:Product1_GridView1_ctl13_GridView2_ctl02_HyperLink1\n",
    "#價格    :Product1_GridView1_ctl13_GridView2_ctl02_HyperLink2\n",
    "\n",
    "soup = BeautifulSoup(res.text, 'html.parser')\n",
    "title = soup.select('#Product1_GridView1_ctl13_GridView2_ctl02_HyperLink1')[0]['title']\n",
    "href = soup.select('#Product1_GridView1_ctl13_GridView2_ctl02_HyperLink1')[0]['href']\n",
    "prodNo = str(href).split('Prod_No=')[1]\n",
    "price = soup.select('#Product1_GridView1_ctl13_GridView2_ctl02_HyperLink2')[0].text\n",
    "print title, href, prodNo, price\n",
    "\n",
    "'''或 日本館頁面的價格區塊包含(標題,行程,連結,價格)\n",
    "tours=[]\n",
    "import re\n",
    "for t in soup.select('.priceR a'):\n",
    "    if re.search('Product1_GridView1_ctl(\\d+)_GridView2_ctl(\\d+)_HyperLink2',t['id']):\n",
    "        print t\n",
    "        print \"-----------------------------------------------------------------------------\"\n",
    "'''"
   ]
  },
  {
   "cell_type": "code",
   "execution_count": 5,
   "metadata": {
    "collapsed": false
   },
   "outputs": [
    {
     "name": "stdout",
     "output_type": "stream",
     "text": [
      "<type 'unicode'>\n",
      "九州(福岡.宮崎.鹿兒島)旅遊 - <font color=blue>【暖心九州Fun心玩】</font>太宰府旅人列車、御船山樂園、未來長崎Coco Walk 、九十九島遊船5日\n",
      "http://www.startravel.com.tw/StarTravel.Web.IGRP.Prod.V2/AProd.aspx?Prod_No=IGRP000016743\n",
      "IGRP000016743\n",
      "27,900元起\n"
     ]
    }
   ],
   "source": [
    "#多筆\n",
    "titles=[]\n",
    "import re\n",
    "#print soup.select('a')\n",
    "'''\n",
    "for t in soup.select('a a'):\n",
    "    if re.search('Product1_GridView1_ctl(\\d+)_GridView2_ctl(\\d+)_HyperLink1',t['id']):\n",
    "        #print type(t['title'])\n",
    "        #print type(t['title'].encode('utf-8'))\n",
    "        #print t['title']\n",
    "        #titles.append(t['title'])\n",
    "'''        \n",
    "#一行碼\n",
    "[ titles.append(t['title']) for t in soup.select('a a') if re.search('Product1_GridView1_ctl(\\d+)_GridView2_ctl(\\d+)_HyperLink1',t['id']) ]\n",
    "\n",
    "#list         \n",
    "hrefs=[]\n",
    "import re\n",
    "for h in soup.select('a a'):\n",
    "    if re.search('Product1_GridView1_ctl(\\d+)_GridView2_ctl(\\d+)_HyperLink1',h['id']):\n",
    "        #print type(h['href'])\n",
    "        #print type(h['href'].encode('utf-8'))\n",
    "        #print h['href']\n",
    "        hrefs.append(h['href'])\n",
    "#一行碼    \n",
    "#hrefs=[ h['href'] for h in soup.select('a a') if re.search('Product1_GridView1_ctl(\\d+)_GridView2_ctl(\\d+)_HyperLink1',h['id']) ]    \n",
    "\n",
    "prodNos=[]\n",
    "#for pn in xrange(0,len(hrefs)):\n",
    "#    prodNos.append(str(hrefs[pn]).split('Prod_No=')[-1])\n",
    "#一行碼\n",
    "[   prodNos.append(str(hrefs[pn]).split('Prod_No=')[-1]) for pn in xrange(0,len(hrefs))  ]    #先宣稱list再放入\n",
    "#prodNos=[ str(hrefs[pn]).split('Prod_No=')[-1] for pn in xrange(0,len(hrefs)) ]    #宣稱List同時放入值\n",
    "     \n",
    "prices=[]\n",
    "import re\n",
    "for p in soup.select('.priceR a'):\n",
    "    if re.search('Product1_GridView1_ctl(\\d+)_GridView2_ctl(\\d+)_HyperLink2',p['id']):\n",
    "        #print p.text\n",
    "        #print type(h['href'].encode('utf-8'))\n",
    "        #print h['href']\n",
    "        prices.append(p.text)\n",
    "        \n",
    "print type(titles[40])\n",
    "print titles[40]\n",
    "print hrefs[40]\n",
    "print prodNos[40]\n",
    "print prices[40]"
   ]
  },
  {
   "cell_type": "markdown",
   "metadata": {
    "collapsed": true
   },
   "source": [
    "### 行程頁面\n",
    "- 每日行程dic route': ({'d1': 'p1'}, {'d2': 'p2'})}\n",
    "- list[變數], 變數:每日行程"
   ]
  },
  {
   "cell_type": "code",
   "execution_count": 66,
   "metadata": {
    "collapsed": false
   },
   "outputs": [
    {
     "name": "stdout",
     "output_type": "stream",
     "text": [
      "{1: ['a', 'b', 'c', 'd'], 2: ['a', 'b', 'c', 'd'], 3: ['a', 'b', 'c', 'd'], 4: ['a', 'b', 'c', 'd']}\n",
      "{1: 'a', 2: 'b', 3: 'c', 4: 'd'}\n"
     ]
    }
   ],
   "source": [
    "#測試dic\n",
    "dic={}\n",
    "key='route'\n",
    "day1='d1'\n",
    "place1='p1'\n",
    "day2='d2'\n",
    "place2='p2'\n",
    "#dic[route]=value,value2\n",
    "dic[route]={day1:place1},{day2:place2}\n",
    "#print dic\n",
    "\n",
    "#字典包字典\n",
    "day={}\n",
    "for i in xrange(0,9):\n",
    "    day['day'+str(i)] = 'place'+str(i)\n",
    "#print day\n",
    "tour={}\n",
    "tour[key]=day\n",
    "#print tour\n",
    "\n",
    "#dict.fromkeys(s,fixedValue])\n",
    "s=[1,2,3,4]\n",
    "v=['a','b','c','d']\n",
    "dic=dict.fromkeys(s, v)\n",
    "print str(dic)\n",
    "\n",
    "#.__setitem__(i, y):list值依序放入字典\n",
    "dict={}\n",
    "for i in xrange(0,4):\n",
    "    dict.__setitem__(s[i], v[i])\n",
    "print dict\n",
    "    \n",
    "\n",
    "date='date'\n",
    "dates1='08/05'\n",
    "dates2='08/09'\n",
    "dic[date]=dates1,dates2\n",
    "#print dic\n",
    "\n",
    "#help(dic)"
   ]
  },
  {
   "cell_type": "code",
   "execution_count": 13,
   "metadata": {
    "collapsed": false
   },
   "outputs": [
    {
     "name": "stdout",
     "output_type": "stream",
     "text": [
      "<type 'unicode'>\n",
      "day4 飯店─熊本城(日本三大名城)─柳川遊船─太宰府天滿宮─免稅商店─博多HAKATA車站JR城(自由活動)─福岡\n",
      "day5 福岡─門司港懷古地區散策(門司港懷舊觀光展望台+舊門司三井俱樂部+門司港車站+舊門司稅關)─海峽廣場─博多運河城─福岡／高雄\n",
      "day2 福岡─(JR博多車站+++由布院之森列車+++由布院車站)─鐵道散策之旅(B SPEAK蛋糕甜品)─金鱗湖─九重大吊橋(天空步道)─別府或阿蘇溫泉或杖立溫泉\n",
      "day3 別府溫泉─血池地獄─別府空中纜車─南阿蘇鐵道之旅(高森車站+++立野車站)─熊本或阿蘇或杖立溫泉\n",
      "day1 高雄／福岡─HOTEL CHECK IN\n"
     ]
    }
   ],
   "source": [
    "#單筆每日行程{'tour': ({'day1': 'locat1'}, {'day2': 'locat2'})}\n",
    "#行程區塊 id=\"AProdIntroMoreC1_pnlResult\" \n",
    "#每日行程內容：<h3> <span>\n",
    "#第幾日：<stong> <span> <span>\n",
    "\n",
    "import requests\n",
    "from bs4 import BeautifulSoup\n",
    "res = requests.get('http://www.startravel.com.tw/StarTravel.Web.IGRP.Prod.V2/AProd.aspx?Prod_No=IGRP000012839',verify=False)\n",
    "#print res.text\n",
    "\n",
    "soup = BeautifulSoup(res.text, 'html.parser')\n",
    "#day1 = soup.select('#AProdIntroMoreC1_pnlResult strong span span')[0].text\n",
    "#day1locats = soup.select('#AProdIntroMoreC1_pnlResult h3 span')[0].text\n",
    "#print day1locats\n",
    "#print type(repr(day1locats))    #<type 'str'>\n",
    "\n",
    "#一筆\n",
    "route={}\n",
    "days = soup.select('#AProdIntroMoreC1_pnlResult strong span span')\n",
    "locats = soup.select('#AProdIntroMoreC1_pnlResult h3 span')\n",
    "print type(days[0].text)    #<type 'unicode'>\n",
    "\n",
    "#day型態為unicode\n",
    "for i in xrange(0,len(days)):\n",
    "    route[\"day\"+days[i].text]=locats[i].text\n",
    "#for i in xrange(0,5):\n",
    "#    print tour.values()[i]    #注意!!!中文在list中會顯示編碼,需將其從list提取出來才會顯示中文字\n",
    "\n",
    "#迭代\n",
    "for r in route:\n",
    "    print r, route[r]\n",
    "\n",
    "#day型態為int\n",
    "#for i in xrange(0,len(days)):\n",
    "#    route[int(days[i].text)]=locats[i].text\n",
    "#print route[5]"
   ]
  },
  {
   "cell_type": "code",
   "execution_count": 33,
   "metadata": {
    "collapsed": false
   },
   "outputs": [
    {
     "name": "stdout",
     "output_type": "stream",
     "text": [
      "桃園機場或松山機場／東京成田空港或東京羽田空港→飯店→成田(購物廣場~自由購物) 或 東京或千葉(自由活動~逛街購物) (限航班為午前出發) 【貼心加贈：花壽司餐盒~讓您補充體力】\n"
     ]
    }
   ],
   "source": [
    "#多筆\n",
    "#list[tour1={{'day1': 'locat1'}, {'day2': 'locat2'}, ...}, tour2={{'day1': 'locat1'}, {'day2': 'locat2'},...}, tour3={{'day1': 'locat1'}, {'day2': 'locat2'}, ...},  tour4={{'day1': 'locat1'}, {'day2': 'locat2'}, ...}, tour5,... ]\n",
    "\n",
    "import requests\n",
    "from bs4 import BeautifulSoup \n",
    "tours=[]  \n",
    "for i in range(0,len(hrefs)): \n",
    "    res = requests.get(hrefs[i],verify=False)\n",
    "    soup = BeautifulSoup(res.text, 'html.parser')\n",
    "\n",
    "    route={}\n",
    "    days = soup.select('#AProdIntroMoreC1_pnlResult strong span span')\n",
    "    locats = soup.select('#AProdIntroMoreC1_pnlResult h3 span')\n",
    "    for j in xrange(0,(days)):\n",
    "        route[days[j].text]=locats[j].text\n",
    "    tours.append(route)    \n"
   ]
  },
  {
   "cell_type": "markdown",
   "metadata": {
    "collapsed": true
   },
   "source": [
    "# 完整版\n",
    "- 一筆行程ㄧdic{ , , , , }\n",
    "- {agency：旅行社,\n",
    "    prodNo：行程編號(商品編號),\n",
    "    href：行程網址,\n",
    "    title:標題,\n",
    "    tour:({day1:(地點1,地點2,...)},{day2:(地點1,地點2,...)},...)\n",
    "  } "
   ]
  },
  {
   "cell_type": "code",
   "execution_count": 15,
   "metadata": {
    "collapsed": true
   },
   "outputs": [],
   "source": [
    "#一筆:獲取詳細日程\n",
    "def gettour(url):\n",
    "    res = requests.get(url)\n",
    "    soup = BeautifulSoup(res.text, 'html.parser')\n",
    "    route={}\n",
    "    days = soup.select('#AProdIntroMoreC1_pnlResult strong span span')\n",
    "    locats = soup.select('#AProdIntroMoreC1_pnlResult h3 span')\n",
    "    for j in xrange(0,len(days)):\n",
    "        day = \"day\"+days[j].text\n",
    "        route[day]=locats[j].text \n",
    "    return route"
   ]
  },
  {
   "cell_type": "code",
   "execution_count": 16,
   "metadata": {
    "collapsed": false,
    "scrolled": false
   },
   "outputs": [],
   "source": [
    "from bs4 import BeautifulSoup\n",
    "res = requests.get('http://www.startravel.com.tw/outbound/JP/index.html',verify=False)\n",
    "res.encoding='utf-8' #注意此行放的位置需緊接res之後,否則亂碼\n",
    "soup = BeautifulSoup(res.text, 'html.parser')\n",
    "import re\n",
    "import json\n",
    "\n",
    "#List[prodNo], List[href], List[prodNo], List[title]\n",
    "hrefs=[ h['href'] for h in soup.select('a a') if re.search('Product1_GridView1_ctl(\\d+)_GridView2_ctl(\\d+)_HyperLink1',h['id']) ]\n",
    "prodNos=[ str(hrefs[pn]).split('Prod_No=')[-1] for pn in xrange(0,len(hrefs)) ]\n",
    "titles=[ t['title'] for t in soup.select('a a') if re.search('Product1_GridView1_ctl(\\d+)_GridView2_ctl(\\d+)_HyperLink1',t['id']) ] \n",
    "#print hrefs[77]\n",
    "#print prodNos[40]\n",
    "#print titles[77]\n",
    "\n",
    "\n",
    "#一筆行程放入dic:pktour{}\n",
    "#多筆行程放入list:pktours=[]\n",
    "tour={}\n",
    "pktour={}\n",
    "pktours=[]\n",
    "for i in xrange(0, len(hrefs)):\n",
    "    url= hrefs[i]\n",
    "    routes = gettour(url)    #gettour(url) 回傳 route{} routes接住\n",
    "\n",
    "    pktour['agency']='startTravel燦星'\n",
    "    pktour['prodNo']=prodNos[i]\n",
    "    pktour['href']=hrefs[i]\n",
    "    pktour['title']=titles[i]\n",
    "    pktour['tour']=routes\n",
    "    \n",
    "    pktourTemp = pktour.copy()    #.copy(): pktour[]為參照位置,值不同丟入同一參照位值則值會更新只留最新一筆,故需要複製\n",
    "    pktours.append(pktourTemp)    #使用.append放入list, 否則會出現IndexError: list assignment index out of range\n",
    "        \n",
    "\n",
    "#輸出為json檔\n",
    "startravel_jpPkTours={} \n",
    "startravel_jpPkTours['starTravel']=pktours\n",
    "with open('/Users/min-go/documents-export-2016-05-27/starTravel燦星.json' , 'w') as f:\n",
    "    json.dump(startravel_jpPkTours, f)"
   ]
  },
  {
   "cell_type": "code",
   "execution_count": 17,
   "metadata": {
    "collapsed": false,
    "scrolled": true,
    "slideshow": {
     "slide_type": "-"
    }
   },
   "outputs": [
    {
     "name": "stdout",
     "output_type": "stream",
     "text": [
      "<type 'dict'>\n",
      "starTravel\n",
      "{\"starTravel\": [{\"agency\": \"startTravel燦星\", \"href\": \"http://www.startravel.com.tw/StarTravel.Web.IGRP.Prod.V2/AProd.aspx?Prod_No=IGRP000011575\", \"prodNo\": \"IGRP000011575\", \"title\": \"東京旅遊 - 【時尚東京】迪士尼樂園．晴空塔．杜莎夫人蠟像館．明治神宮．淺草觀音寺．台場 5天\", \"tour\": {\"day1\": \"桃園機場或松山機場／東京成田空港或東京羽田空港→飯店→成田(購物廣場~自由購物) 或 東京或千葉(自由活動~逛街購物) (限航班為午前出發) 【貼心加贈：花壽司餐盒~讓您補充體力】\", \"day2\": \"淺草觀音寺．江戶繁華老街~仲見世通→東京晴空塔SKY TREE(不上展望台)~晴空街道商店街→都內綠洲．明治神宮→免稅店→東京杜莎夫人蠟像館→日本香榭大道．台場．DiverCity Tokyo Plaza~巨大鋼彈戰士模型\", \"day3\": \"全日迪士尼樂園 或 海洋迪士尼(一票到底)~搭乘電車體驗（選擇樂園或海洋，請於出發前七個工作日告知客服人員，未事先告知的貴賓，視同以樂園為主）\", \"day4\": \"全日自由活動~建議您可自行自費搭乘電車前往~(1)青春新潮的原宿(2)高貴大方的銀座\", \"day5\": \"自由活動~飯店→東京成田空港或東京羽田空港／桃園機場或松山機場\"}}, {\"agency\": \"startTravel燦星\", \"href\": \"http://www.startravel.com.tw/StarTravel.Web.IGRP.Prod.V2/AProd.aspx?Prod_No=IGRP000011763\", \"prodNo\": \"IGRP000011763\", \"title\": \"東京旅遊 - 【靜岡+東京】茶鄉博物館．櫻桃小丸子．小王子博物館．鬼太郎茶屋．溫泉蟹宴5天\", \"tour\": {\"day1\": \"桃園機場／靜岡空港→住宿飯店\", \"day2\": \"日本第一茶鄉．御茶之鄉博物館【贈送風味茶霜淇淋】→櫻桃小丸子的故鄉靜岡．櫻桃小丸子樂園→日本觀光地百選．日本平．眺望富士山、伊豆半島→日本的絕景黃金組合．三保松原→御殿場OUTLET購物廣場【過季名牌精品】→富士五湖溫泉區或石和溫泉區\", \"day3\": \"日本百選名水．忍野八海→小王子的B612星球．星星王子博物館→日劇．鬼太郎之妻拍攝景點．深大寺．鬼太郎茶屋→免稅店→路經東京灣地標【彩虹大橋】→台場繽紛城．DiverCity Tokyo Plaza~巨大鋼彈戰士模型\", \"day4\": \"全日自由活動．推薦自行前往原宿表參道 或 六本木東京中城 或 自費自行前往~迪士尼樂園\", \"day5\": \"自由活動~飯店→東京成田空港／桃園機場\"}}, {\"agency\": \"startTravel燦星\", \"href\": \"http://www.startravel.com.tw/StarTravel.Web.IGRP.Prod.V2/AProd.aspx?Prod_No=IGRP000011159\", \"prodNo\": \"IGRP000011159\", \"title\": \"東京旅遊 - 【東京雙樂園】迪士尼．KITTY樂園．海盜船．忍野八海．御殿場OUTLET．溫泉蟹宴5天\", \"tour\": {\"day1\": \"桃園機場或松山機場／東京成田空港或東京羽田空港→飯店→成田(購物廣場~自由購物) 或 東京或千葉(自由活動~逛街購物) (限航班為午前出發)【貼心加贈：花壽司餐盒~讓您補充體力逛街去】\", \"day2\": \"淺草觀音寺．江戶繁華老街~仲見世通．可遠眺東京晴空塔→箱根蘆之湖復古海盜船．遊覽富士山湖光山色→關東古老神社之一．箱根神社→御殿場OUTLET購物廣場【過季名牌精品】→富士五湖溫泉鄉或石和溫泉鄉\", \"day3\": \"日本百選名水．忍野八海→三麗鷗Hello Kitty彩虹樂園(一票到底)→免稅店→台場繽紛城．DiverCity Tokyo Plaza~巨大鋼彈戰士模型\", \"day4\": \"全日迪士尼樂園 ,或 海洋迪士尼(一票到底)~搭乘電車體驗（選擇樂園或海洋，請於出發前七個工作日告知客服人員，未事先告知的貴賓，視同以樂園為主）\", \"day5\": \"自由活動~飯店→東京成田空港或東京羽田空港／桃園機場或松山機場\"}}, {\"agency\": \"startTravel燦星\", \"href\": \"http://www.startravel.com.tw/StarTravel.Web.IGRP.Prod.V2/AProd.aspx?Prod_No=IGRP000014890\", \"prodNo\": \"IGRP000014890\", \"title\": \"東京旅遊 - 【富士鐵道．靜岡+東京】天上山纜車．淺間大社．迪士尼．湯瑪士列車 5天\", \"tour\": {\"day1\": \"桃園機場／靜岡空港→住宿飯店\", \"day2\": \"日本的絕景黃金組合~三保松原 → 日本觀光地百選~日本平~眺望富士山、伊豆半島 → 淺間大社 → 御殿場OUTLET購物廣場【過季名牌精品】→富士五湖溫泉區\", \"day3\": \"天上山公園．河口湖卡奇卡奇山纜車〈搭乘纜車約3分鐘〉 ~ 眺望富士山美景．兔神社．狸貓茶屋 ~ 加贈小點心 → 富士登山列車湯瑪士號〈河口湖站~都留站 約39分〉 → 免稅店 → 路經東京灣地標【彩虹大橋】前往有日本香榭大道之稱【台場繽紛城】)~DiverCity Tokyo Plaza~巨大鋼彈戰士模型 \"}}, {\"agency\": \"startTravel燦星\", \"href\": \"http://www.startravel.com.tw/StarTravel.Web.IGRP.Prod.V2/AProd.aspx?Prod_No=IGRP000015488\", \"prodNo\": \"IGRP000015488\", \"title\": \"東京旅遊 - 【輕東京】漫遊輕井澤．星野庭園．3D美術館．小江戶川越．OUTLET 5日\", \"tour\": {\"day1\": \"桃園機場／成田空港 → 飯店 →  成田(成田山新勝寺 → 購物廣場)  或  東京或千葉(自由活動~逛街購物) 【貼心加贈：花壽司餐盒~讓您補充體力逛街去】\", \"day2\": \"小江戶．川越散策．藏造傳統建築．時代之鐘~菓子屋橫丁  →  輕井澤~輕井澤銀座通．聖保羅教堂  →   輕井澤王子購物廣場\", \"day3\": \"白絲瀑布  →  星野HARUNIRE庭園 或 石之教堂  →  輕井澤3D不思議．森之美術館  →  免稅店  →  台場繽紛城．DiverCity Tokyo Plaza~巨大鋼彈戰士模型\", \"day4\": \"全日自由活動\", \"day5\": \"自由活動→東京成田空港／桃園機場\"}}, {\"agency\": \"startTravel燦星\", \"href\": \"http://www.startravel.com.tw/StarTravel.Web.IGRP.Prod.V2/AProd.aspx?Prod_No=IGRP000016625\", \"prodNo\": \"IGRP000016625\", \"title\": \"東京旅遊 - 【FUN暑假．靜東】富士急樂園+迪士尼．麗莎&卡斯伯山景下午茶．溫泉絕景5天\", \"tour\": {\"day1\": \"桃園機場／靜岡空港→住宿飯店\", \"day2\": \"新日本三景．三保松原~羽衣之松 → 日本觀光地百選．日本平~眺望富士山、伊豆半島 → 淺間大社 → 御殿場 Premium OUTLET．可眺望富士山 → 富士五湖溫泉區\", \"day3\": \"富士急樂園(含一日券)~湯瑪士樂園~加贈：麗莎&卡斯伯小鎮山景下午茶 → 免稅店 → 台場繽紛城．DiverCity Tokyo Plaza~巨大鋼彈戰士模型 \"}}, {\"agency\": \"startTravel燦星\", \"href\": \"http://www.startravel.com.tw/StarTravel.Web.IGRP.Prod.V2/AProd.aspx?Prod_No=IGRP000016744\", \"prodNo\": \"IGRP000016744\", \"title\": \"東京旅遊 - 【伊童趣東京】龍貓遇見泰迪熊．迪士尼．鐮倉古都．江之電．大室山纜車．伊豆溫泉5日\", \"tour\": {\"day1\": \"桃園機場或松山機場／成田空港或羽田空港 → 飯店 → 成田(購物廣場~自由購物) 或 東京或千葉(自由活動~逛街購物) (限航班為午前出發) 【貼心加贈：花壽司餐盒~讓您補充體力】\", \"day2\": \"鐮倉古都巡禮．高德院~國寶鐮倉大佛、鶴岡八幡宮~古街散策~鶴岡八幡小町通 → ★湘南海岸復古電車~江之島電鐵 → 小田原城（不上天守閣） → 伊東溫泉\", \"day3\": \"伊豆國立公園~國家指定天然記念物．大室山（搭乘纜車）~欣賞伊豆高原美麗景色 → ★伊豆泰迪熊博物館．龍貓特展 → 免稅店 → 台場DiverCity Tokyo Plaza購物廣場\", \"day4\": \"全日迪士尼樂園 或 海洋迪士尼(一票到底)~搭乘電車體驗（選擇樂園或海洋，請於出發前七個工作日告知客服人員，未事先告知的貴賓，視同以樂園為主）\", \"day5\": \"自由活動~飯店→成田空港或羽田空港／桃園機場或松山機場\"}}, {\"agency\": \"startTravel燦星\", \"href\": \"http://www.startravel.com.tw/StarTravel.Web.IGRP.Prod.V2/AProd.aspx?Prod_No=IGRP000012552\", \"prodNo\": \"IGRP000012552\", \"title\": \"東京旅遊 - 【漫遊東京+靜岡】櫻桃小丸子．淺草觀音寺．海盜船．駿河灣遊船．御殿場OUTLET 5天\", \"tour\": {\"day1\": \"桃園機場／東京成田空港→飯店 \", \"day2\": \"東京都廳~搭乘高速電梯登上展望樓~遠眺富士山及東京全貌→東京晴空塔SKY TREE(不上展望台)~晴空街道商店街→淺草觀音寺~江戶繁華老街「仲見世通」→免稅店→台場(日本香榭大道)~DiverCity Tokyo Plaza~巨大鋼彈戰士模型 \", \"day3\": \"全日自由活動→推薦前往原宿表參道或六本木東京中城或自費前往電車體驗：夢想與魔法的王國－迪士尼樂園或海洋迪士尼：卡通城、探險樂園、夢想向前大遊行、經典電影夢之光\", \"day4\": \"路經富士箱根伊豆國立公園→三千多年火山湖~蘆之湖復古海盜船→箱根神社~平和的鳥居~水上大鳥居→御殿場OUTLET購物廣場【過季名牌精品】→伊豆最古老溫泉~修善寺町散策~獨鈷之湯\"}}, {\"agency\": \"startTravel燦星\", \"href\": \"http://www.startravel.com.tw/StarTravel.Web.IGRP.Prod.V2/AProd.aspx?Prod_No=IGRP000016622\", \"prodNo\": \"IGRP000016622\", \"title\": \"東京旅遊 - 【FUN暑假。東京雙樂園】迪士尼．KITTY樂園．箱根遊船．淺草寺．OUTLET．溫泉蟹宴5天\", \"tour\": {\"day1\": \"桃園機場或松山機場／東京成田空港或東京羽田空港 → 飯店 → 成田(購物廣場~自由購物) 或 東京或千葉(自由活動~逛街購物) (限航班為午前出發)【貼心加贈：花壽司餐盒~讓您補充體力逛街去】\", \"day2\": \"淺草觀音寺．雷門．仲見世通傳統商店街(可遠眺晴空塔) → 箱根蘆之湖復古海盜船(箱根町~元箱根)．遊覽富士山湖光山色 → 關東古老神社．箱根神社 → 御殿場 Premium OUTLET．可眺望富士山→富士五湖溫泉鄉或石和溫泉鄉\", \"day3\": \"日本百選名水．忍野八海 → 三麗鷗Hello Kitty彩虹樂園(一票到底) → 免稅店 → 台場繽紛城．DiverCity Tokyo Plaza~巨大鋼彈戰士模型\", \"day4\": \"全日迪士尼渡假園區：迪士尼樂園 或 海洋迪士尼(一票到底)~~搭乘電車體驗（選擇樂園或海洋，請於出發前七個工作日告知客服人員，未事先告知的貴賓，視同以樂園為主）\", \"day5\": \"自由活動~飯店 → 東京成田空港或東京羽田空港／桃園機場或松山機場\"}}, {\"agency\": \"startTravel燦星\", \"href\": \"http://www.startravel.com.tw/StarTravel.Web.IGRP.Prod.V2/AProd.aspx?Prod_No=IGRP000016897\", \"prodNo\": \"IGRP000016897\", \"title\": \"東京旅遊 - 【FUN暑假．東京期間限定。喵星人 VS 汪星人】橫濱皇家愛之船．史努比博物館．KITTY樂園．杯麵DIY體驗 5天\", \"tour\": {\"day1\": \"桃園機場或松山機場／東京成田空港或東京羽田空港 →  橫濱港區~赤煉瓦紅磚倉庫 → 特別安排 ★ 豪華遊輪皇家之翼愛之船(Royal Wing)．夜遊橫濱港灣~享用總匯自助晚餐~欣賞橫濱港璀璨夜燈景緻 ※本日如搭乘CI-108 班機，因抵達時間較早，貼心加贈：成田飯店早餐(自助餐)~讓您稍做休息並補充體力\", \"day2\": \"橫濱山下公園 →  日清杯麵博物館★ 特別加贈~DIY製作個人專屬杯麵 →  東京六本木【期間限定展覽】★ 史努比SNOOPY博物館 →  淺草觀音寺．雷門．仲見世通傳統商店街(可遠眺晴空塔)\", \"day3\": \" 三麗鷗Hello Kitty彩虹樂園 ★【期間限定．夏季祭典 7/16~8/31】 → 東京都廳(上展望台~可遠眺富士山) → 免稅店 → 台場繽紛城．DiverCity Tokyo Plaza~巨大鋼彈戰士模型\", \"day4\": \"全日自由活動 ~ 可自費自行前往 ~ 迪士尼渡假園區\"}}, {\"agency\": \"startTravel燦星\", \"href\": \"http://www.startravel.com.tw/StarTravel.Web.IGRP.Prod.V2/AProd.aspx?Prod_No=IGRP000016645\", \"prodNo\": \"IGRP000016645\", \"title\": \"東京旅遊 - 【FUN暑假．東京四大主題】雙迪士尼．海賊王．凱蒂貓樂園．道樂螃蟹．美食饗宴5天~華航\", \"tour\": {\"day1\": \"桃園機場／東京成田空港【貼心加贈：花壽司餐盒~讓您補充體力】 → 三麗鷗HELLO KITTY彩虹樂園(一票到底)\"}}, {\"agency\": \"startTravel燦星\", \"href\": \"http://www.startravel.com.tw/StarTravel.Web.IGRP.Prod.V2/AProd.aspx?Prod_No=IGRP000012528\", \"prodNo\": \"IGRP000012528\", \"title\": \"東京旅遊 - 【樂透東京】雙迪士尼．海賊王主題館．凱蒂貓樂園．道樂螃蟹．美食饗宴5天~中華航空\", \"tour\": {\"day1\": \"桃園機場／東京成田空港【貼心加贈：花壽司餐盒~讓您補充體力】→三麗鷗HELLO KITTY彩虹樂園(一票到底)<<<美樂蒂の小紅帽與大野狼的童話故事>>>\"}}, {\"agency\": \"startTravel燦星\", \"href\": \"http://www.startravel.com.tw/StarTravel.Web.IGRP.Prod.V2/AProd.aspx?Prod_No=IGRP000016561\", \"prodNo\": \"IGRP000016561\", \"title\": \"東京旅遊 - 【FUN暑假。玩樂東京】橫浜八景島．迪士尼．忍者主題村．拉麵博物館．溫泉蟹宴5天\", \"tour\": {\"day1\": \"桃園機場或松山機場／成田空港或羽田空港→ 新橫濱拉麵博物館 → 橫濱紅磚倉庫群(赤煉瓦倉庫)\"}}, {\"agency\": \"startTravel燦星\", \"href\": \"http://www.startravel.com.tw/StarTravel.Web.IGRP.Prod.V2/AProd.aspx?Prod_No=IGRP000011061\", \"prodNo\": \"IGRP000011061\", \"title\": \"東京旅遊 - 【哈東京】迪士尼．宮崎駿．淺草觀音寺．海盜船．御殿場OUTLET．溫泉蟹宴5天\", \"tour\": {\"day1\": \"松山機場／東京羽田空港→飯店→ 東京(自由逛街購物)\", \"day2\": \"箱根蘆之湖復古海盜船．遊覽富士山湖光山色→關東古老神社之一．箱根神社→御殿場OUTLET購物廣場【過季名牌精品】→富士五湖溫泉鄉或石和溫泉鄉\", \"day3\": \"日本動畫大師．宮崎駿．三鷹之森吉卜力美術館→淺草觀音寺．江戶繁華老街(仲見世通)．可遠眺東京晴空塔→免稅店→台場繽紛城．DiverCity Tokyo Plaza~巨大鋼彈戰士模型\", \"day4\": \"全日迪士尼樂園 或 海洋迪士尼(一票到底)~搭乘電車體驗（選擇樂園或海洋，請於出發前七個工作日告知客服人員，未事先告知的貴賓，視同以樂園為主）\", \"day5\": \"自由活動~飯店→東京羽田空港／松山機場\"}}, {\"agency\": \"startTravel燦星\", \"href\": \"http://www.startravel.com.tw/StarTravel.Web.IGRP.Prod.V2/AProd.aspx?Prod_No=IGRP000013668\", \"prodNo\": \"IGRP000013668\", \"title\": \"東京旅遊 - 【輕井澤．<font color=\\\"blue\\\">忍者和服體驗</FONT>】日光江戶村．高原列車．伊香保纜車 雙溫泉5日\", \"tour\": {\"day1\": \"桃園機場或松山機場／東京成田空港或東京羽田空港－橫濱或東京~自由活動(如住宿橫濱則建議自費前往橫濱未來21~紅磚赤瓦倉庫群等感受橫濱港區五光十色的生活及夜景；如住宿東京則建議自費前往血拼聖地~銀座或新宿等)\", \"day2\": \"八岳搭乘高原列車小海線 (小淵沢站~清里站~約24分) → 輕井澤~銀座通~聖保羅天主教堂 → 輕井澤Outlet 購物廣場 → 夜宿輕井澤\", \"day3\": \"伊香保溫泉~伊香保禦關所~石階梯溫泉古街道散策~伊香保神社 → 【特別贈送~伊香保空中纜車】~登上山之上公園~見晴展望台 → 世界遺產．日光國立公園．二社一寺．東照宮~三不猴雕刻．輪王寺．二荒山神社\"}}, {\"agency\": \"startTravel燦星\", \"href\": \"http://www.startravel.com.tw/StarTravel.Web.IGRP.Prod.V2/AProd.aspx?Prod_No=IGRP000016648\", \"prodNo\": \"IGRP000016648\", \"title\": \"北海道旅遊 - <font color=\\\"#EE00EE\\\">驚爆限定【哈味北海道~五星希爾頓】</font>★保證入住一晚五星希爾頓★夢幻花田DIY+ 哈密瓜吃到飽、可愛企鵝散步、三井OUTLET+狸小路逛街購物5日(復興)\", \"tour\": {\"day1\": \"台北／新千歲空港→札幌市區觀光【路經札幌市鐘樓、舊道廳】→大通公園→北海道神宮→札幌拉麵聖地~元祖札幌拉麵橫丁~複合商業設施~札幌工廠~約160家的商店聚集在此→飯店\", \"day2\": \"●日本的普羅旺斯．富良野．富田農場＊彩虹花田＊花人之舍＊香水之舍．＊贈送薰衣草冰淇淋+薰衣草小枕頭→★美瑛．拼布之路 →＊★逛街購物聖地~狸小路輕鬆逛街→飯店\", \"day3\": \"★北海道最大海洋世界王國．北歐浪漫奇觀．登別尼克斯海洋公園．國王企鵝大遊行→登別地獄谷→＊逛街購物聖地~登別極樂通商店街→飯店\", \"day4\": \"●醉人余市Nikka威士忌北海道工廠~唯一手工木炭蒸餾~余市蒸餾所建築物群【有形文化財產】→●精品藥妝免稅店 →＊●浪漫天堂．小樽運河．北一硝子館．音樂盒館．銀之鐘 →飯店\", \"day5\": \"★最夯逛街購物聖地~北海道最大．三井OUTLET購物廣場→新千歲空港／台北\"}}, {\"agency\": \"startTravel燦星\", \"href\": \"http://www.startravel.com.tw/StarTravel.Web.IGRP.Prod.V2/AProd.aspx?Prod_No=IGRP000016423\", \"prodNo\": \"IGRP000016423\", \"title\": \"北海道旅遊 - 【夏戀北海道】★升等五星希爾頓+夕張溫泉飯店+ 哈密瓜吃到飽 、★富良野花田、薰衣草DIY、企鵝遊行、三大螃蟹饗宴溫泉5日</FONT>(中華航空)\", \"tour\": {\"day1\": \"桃園機場／新千歲空港→飯店\", \"day2\": \"●日本的普羅旺斯．富良野．富田農場＊彩虹花田＊花人之舍＊香水之舍．＊特別安排+DIY薰衣草小枕頭 → ★美瑛．拼布之路→ 哈密瓜的故鄉．夕張溫泉鄉\"}}, {\"agency\": \"startTravel燦星\", \"href\": \"http://www.startravel.com.tw/StarTravel.Web.IGRP.Prod.V2/AProd.aspx?Prod_No=IGRP000016545\", \"prodNo\": \"IGRP000016545\", \"title\": \"北海道旅遊 - <font color=blue>春季限定【啾＊愛北海道】</font>★夢幻花田DIY、海洋公園企鵝散步、 哈密瓜吃到飽 、三大螃蟹饗宴溫泉5日(CI &GE)\", \"tour\": {\"day1\": \"台北／新千歲空港→札幌市區觀光【路經札幌市鐘樓、舊道廳】→飯店\", \"day2\": \"●日本的普羅旺斯．富良野．富田農場＊彩虹花田＊花人之舍＊香水之舍．＊贈送薰衣草冰淇淋+薰衣草小枕頭→★美瑛．拼布之路 →哈密瓜的故鄉．夕張溫泉鄉飯店\"}}, {\"agency\": \"startTravel燦星\", \"href\": \"http://www.startravel.com.tw/StarTravel.Web.IGRP.Prod.V2/AProd.aspx?Prod_No=IGRP000016797\", \"prodNo\": \"IGRP000016797\", \"title\": \"北海道旅遊 - <font color=\\\"#EE00EE\\\">FUN暑假【驚爆北海道$28900】</font>★保證入住一晚五星希爾頓★富良野花田DIY、可愛企鵝遊行、三井OUTLET+狸小路逛街、壽喜燒+哈密瓜+三大螃蟹吃到飽5日(千/千)\", \"tour\": {\"day1\": \"台北／新千歲空港→札幌市區觀光【路經札幌市鐘樓、舊道廳】→大通公園→北海道神宮→札幌拉麵聖地~元祖札幌拉麵橫丁→飯店\", \"day2\": \"●日本的普羅旺斯．富良野．富田農場＊彩虹花田＊花人之舍＊香水之舍．＊贈送安排DIY薰衣草小枕頭→★美瑛．拼布之路 →★特別升等入住★哈密瓜的故鄉夕張溫泉 SHUPARO飯店\"}}, {\"agency\": \"startTravel燦星\", \"href\": \"http://www.startravel.com.tw/StarTravel.Web.IGRP.Prod.V2/AProd.aspx?Prod_No=IGRP000016750\", \"prodNo\": \"IGRP000016750\", \"title\": \"北海道旅遊 - <font color=blue>FUN暑假【五星繽紛北海道】</font>花田鐵牛列車+薰衣草DIY+可愛草尼馬+冰淇淋．美瑛拼布之路．百萬星空夜景．哈密瓜+螃蟹吃到飽5日(千歲/函館)\", \"tour\": {\"day1\": \"桃園國際機場（第一航廈）／新千歲空港→★特別安排於札幌市區餐廳．品嚐北海道三大螃蟹(松葉蟹、毛蟹、帝王蟹)吃到飽+燒肉或火鍋吃到飽+飲料(含酒精類)無限暢飲 \"}}, {\"agency\": \"startTravel燦星\", \"href\": \"http://www.startravel.com.tw/StarTravel.Web.IGRP.Prod.V2/AProd.aspx?Prod_No=IGRP000016900\", \"prodNo\": \"IGRP000016900\", \"title\": \"北海道旅遊 - <font color=\\\"#EE00EE\\\">FUN暑假【北海道★樂不思暑】</font>保證入住哈密瓜的故鄉★夕張SHUPARO飯店★繽紛花田、夏艷美瑛、白金青池、浪漫小樽、可愛企鵝散步、夕張哈密瓜吃到飽、三井OUTLET+狸小路逛街購物5日(華航\", \"tour\": {\"day1\": \"台北／新千歲空港→札幌市內觀光【路經時計台、舊道廳】→大通公園→北海道神宮→飯店\"}}, {\"agency\": \"startTravel燦星\", \"href\": \"http://www.startravel.com.tw/StarTravel.Web.IGRP.Prod.V2/AProd.aspx?Prod_No=IGRP000016590\", \"prodNo\": \"IGRP000016590\", \"title\": \"北海道旅遊 - <font color=blue>FUN暑假【★北海道好好玩YA】</font>保證入住五星希爾頓、百萬夜景、富良野浪漫花花世界、可愛企鵝散步、OUTLET購物、哈密瓜+三大螃蟹吃到飽5日\", \"tour\": {\"day1\": \"桃園國際機場／新千歲空港 )→支芴洞爺國立公園~全日本第二深的湖泊~支芴湖→夜宿溫泉鄉\", \"day2\": \"★北海道最大海洋世界王國．北歐浪漫奇觀．尼克斯海洋公園．國王企鵝大遊行→經長萬部→元町異人館街【金森倉庫群．西波止場．明治館】 →●世界三大夜景之一．函館山百萬夜景【搭乘纜車(來回)欣賞百萬夜景】（2011年米其林評鑑為最高級的三顆星旅行之地）→湯之川溫泉鄉(或)大沼(或)函館市區\"}}, {\"agency\": \"startTravel燦星\", \"href\": \"http://www.startravel.com.tw/StarTravel.Web.IGRP.Prod.V2/AProd.aspx?Prod_No=IGRP000016500\", \"prodNo\": \"IGRP000016500\", \"title\": \"北海道旅遊 - <font color=blue>FUN暑假【北海道5大主題】</font>升等五星希爾頓+夕張溫泉飯店、夢幻花田、馬場體驗、海洋公園、 哈密瓜 、冰淇淋、三大螃蟹吃到飽5日(中華航空)\", \"tour\": {\"day1\": \"台北／新千歲空港→飯店\", \"day2\": \"◆日本的普羅旺斯．富良野農場＊彩虹花田＊花人之舍＊香水之舍．＊贈送薰衣草冰淇淋+薰衣草小枕頭 →★美瑛．拼布之路→哈密瓜的故鄉．夕張溫泉鄉\", \"day3\": \"◎北國馬場【★特別贈送★】馬場活動四選一：．騎馬體驗．馬車遊園．弓箭氣球．單車漫遊 →◆北海道最大海洋世界王國．北歐浪漫奇觀．登別尼克斯海洋公園．國王企鵝大遊行 →洋蹄山畔→★特別安排升等五星飯店★東山溫泉鄉 五星希爾頓渡假村\"}}, {\"agency\": \"startTravel燦星\", \"href\": \"http://www.startravel.com.tw/StarTravel.Web.IGRP.Prod.V2/AProd.aspx?Prod_No=IGRP000016871\", \"prodNo\": \"IGRP000016871\", \"title\": \"北海道旅遊 - <font color=\\\"#EE00EE\\\">FUN暑假【嗨翻★北海道】</font>★保證入住一晚五星希爾頓★富良野花田DIY、可愛企鵝遊行、浪漫小樽、三井OUTLET+狸小路逛街、壽喜燒+哈密瓜+三大螃蟹吃到飽5日(中華航空)\", \"tour\": {\"day1\": \"台北／新千歲空港→札幌市區觀光【路經札幌市鐘樓、舊道廳】→飯店\", \"day2\": \"●日本的普羅旺斯．富良野．富田農場＊彩虹花田＊花人之舍＊香水之舍．＊贈送安排DIY薰衣草小枕頭→★美瑛．拼布之路 →★特別升等入住★哈密瓜的故鄉夕張溫泉 SHUPARO飯店\"}}, {\"agency\": \"startTravel燦星\", \"href\": \"http://www.startravel.com.tw/StarTravel.Web.IGRP.Prod.V2/AProd.aspx?Prod_No=IGRP000016841\", \"prodNo\": \"IGRP000016841\", \"title\": \"北海道旅遊 - 【中秋連假★北海道~泡湯、賞月、煙花、三大蟹+烤肉吃到飽】★五星希爾頓、洞爺湖煙火、百萬星空夜景、可愛企鵝散步、三大螃蟹饗宴溫泉5日(千/千)\", \"tour\": {\"day1\": \"台北／新千歲空港→札幌市區觀光【路經札幌市鐘樓、舊道廳】→大通公園→北海道神宮→札幌拉麵聖地~元祖札幌拉麵橫丁~複合商業設施~札幌工廠~約160家的商店聚集在此→飯店\"}}, {\"agency\": \"startTravel燦星\", \"href\": \"http://www.startravel.com.tw/StarTravel.Web.IGRP.Prod.V2/AProd.aspx?Prod_No=IGRP000016665\", \"prodNo\": \"IGRP000016665\", \"title\": \"北海道旅遊 - 【日本旅情~北海道深度之旅】層雲峽~銀河流星瀑布、天都山展望台、流冰館、丹頂鶴公園、三大螃蟹溫泉5日\", \"tour\": {\"day1\": \"台北／新千歲空港 →★ 大雪山國家公園．銀河、流星瀑布→★層雲峽溫泉鄉\", \"day2\": \"b>★網走監獄博物館 →★天都山鄂霍次克流冰館 (體驗零下40度C北國極地天候)→★天都山展望台(晀望網走市區、壯闊鄂霍次克海峽)→★神秘之湖~摩周湖→★阿寒湖溫泉街散策．傳統愛努村落(Kotan)\"}}, {\"agency\": \"startTravel燦星\", \"href\": \"http://www.startravel.com.tw/StarTravel.Web.IGRP.Prod.V2/AProd.aspx?Prod_No=IGRP000016847\", \"prodNo\": \"IGRP000016847\", \"title\": \"北海道旅遊 - 初秋限定【秋醉紅葉★北海道】</font>保證入住五星希爾頓、洞爺湖煙火、函館夜景、可愛企鵝散步、OUTLET購物、三大螃蟹吃到飽5日(千/千)\", \"tour\": {\"day1\": \"今日帶著輕鬆的心情集合於桃園機場，辦理出境手續後，搭乘豪華客機直接飛往北海道門戶【新千歲空港】→支芴洞爺國立公園-支芴湖-全日本第二深的湖泊【＊遇見紅葉：約十月上旬至十月中旬】→飯店\", \"day2\": \"★北海道最大海洋世界王國．北歐浪漫奇觀．尼克斯海洋公園．國王企鵝大遊行→昆布映像館→金森倉庫群、明治館、海鮮市場（波止場）→世界三大夜景之一．函館山百萬夜景【搭乘纜車(來回)欣賞百萬夜景】\"}}, {\"agency\": \"startTravel燦星\", \"href\": \"http://www.startravel.com.tw/StarTravel.Web.IGRP.Prod.V2/AProd.aspx?Prod_No=IGRP000016510\", \"prodNo\": \"IGRP000016510\", \"title\": \"北海道旅遊 - 【★端午連休~北海道採果樂★】★升等一晚五星飯店+二晚溫泉飯店★富良野花田、草莓+冰淇淋放題、企鵝遊行 、哈密瓜吃到飽、三大螃蟹饗宴溫泉5日(華航午去晚回)\", \"tour\": {\"day1\": \"台北／新千歲空港→飯店\", \"day2\": \"●日本的普羅旺斯．富良野．富田農場＊彩虹花田＊花人之舍＊香水之舍．＊特別安排季節限定★採草莓★ 草莓 & 冰淇淋．吃．到．飽＊→★美瑛．拼布之路 ~哈密瓜的故鄉．夕張溫泉鄉\", \"day3\": \"●北海道最大海洋世界王國．北歐浪漫奇觀．登別尼克斯海洋公園．國王企鵝大遊行→日本三大溫泉之一→(如入住登別溫泉飯店行程走)→登別地獄谷→(入住洞爺溫泉飯店行程走)→洞爺湖畔雕刻公園→溫泉飯店\", \"day4\": \"羊蹄山名水公園→精美藥妝免稅店→●浪漫天堂．小樽運河．北一硝子館．音樂盒館．銀之鐘→札幌．自由夜訪狸小路或薄野鬧區．★特別安排於札幌市區餐廳．品嚐北海道三大螃蟹(松葉蟹、毛蟹、帝王蟹)吃到飽+燒肉或火鍋吃到飽+飲料(含酒精類)無限暢飲\"}}, {\"agency\": \"startTravel燦星\", \"href\": \"http://www.startravel.com.tw/StarTravel.Web.IGRP.Prod.V2/AProd.aspx?Prod_No=IGRP000016200\", \"prodNo\": \"IGRP000016200\", \"title\": \"關西(京都.大阪.神戶.奈良)旅遊 - 【時尚大阪】環球影城．哈利波特．手塚治蟲記念館．黑門市場．阿倍野HARUKAS  5日\", \"tour\": {\"day1\": \"桃園機場／大阪關西空港－前往住宿飯店休息\", \"day2\": \"北野異人館街區散策~老洋房中的咖啡香【特別贈送咖啡品嚐】－漫畫大師~手塚治蟲記念館~原子小金剛．怪醫黑傑克故鄉－大阪的廚房巡禮~黑門市場~尋找道地B級美食－免稅店－日本第一高摩天大樓~阿倍野HARUKAS~大阪新地標(不上展望台)\", \"day3\": \"環球影城Universal Studios Japan主題樂園~~哈利波特保證入園\", \"day4\": \"【全日自由活動】，建議您可自行前往【清水寺】、【八坂神社】、【伏見稻荷大社】、【嵐山渡月橋】...等\", \"day5\": \"【本日自由活動】，建議您可自行前往【心齋橋】或【道頓堀】逛街購物、【大阪通天閣】、【梅田Osaka Station City+ GRAND FRONT OSAKA~梅田地下街】－機場免稅店~大阪關西空港／桃園機場\"}}, {\"agency\": \"startTravel燦星\", \"href\": \"http://www.startravel.com.tw/StarTravel.Web.IGRP.Prod.V2/AProd.aspx?Prod_No=IGRP000016604\", \"prodNo\": \"IGRP000016604\", \"title\": \"關西(京都.大阪.神戶.奈良)旅遊 - 【FUN暑假．樂遊大阪】環球影城(哈利波特)．手塚治蟲．黑門市場．阿倍野展望台  5日\", \"tour\": {\"day1\": \"桃園機場／大阪關西空港－前往住宿飯店休息\", \"day2\": \"北野異人館街區散策~老洋房中的咖啡香【特別贈送咖啡品嚐】－漫畫大師~手塚治蟲記念館~原子小金剛．怪醫黑傑克故鄉－大阪的廚房巡禮~黑門市場~尋找道地B級美食－免稅店－日本第一高摩天大樓~阿倍野HARUKAS上★300展望台贈送阿倍野近鐵百貨購物卷￥2000 (美食購物皆適用)\", \"day3\": \"環球影城Universal Studios Japan主題樂園~~哈利波特保證入園\", \"day4\": \"【全日自由活動】，建議您可自行前往【清水寺】、【八坂神社】、【伏見稻荷大社】、【嵐山渡月橋】...等\", \"day5\": \"【本日自由活動】，建議您可自行前往【心齋橋】或【道頓堀】逛街購物、【大阪通天閣】、【梅田Osaka Station City+ GRAND FRONT OSAKA~梅田地下街】－機場免稅店~大阪關西空港／桃園機場\"}}, {\"agency\": \"startTravel燦星\", \"href\": \"http://www.startravel.com.tw/StarTravel.Web.IGRP.Prod.V2/AProd.aspx?Prod_No=IGRP000016848\", \"prodNo\": \"IGRP000016848\", \"title\": \"關西(京都.大阪.神戶.奈良)旅遊 - 【小孩折萬】大阪環球影城．手塚治蟲記念館．黑門市場．阿倍野HARUKAS  5日\", \"tour\": {\"day1\": \"桃園機場／大阪關西空港－前往住宿飯店休息\", \"day2\": \"北野異人館街區散策~老洋房中的咖啡香【特別贈送咖啡品嚐】－漫畫大師~手塚治蟲記念館~原子小金剛．怪醫黑傑克故鄉－大阪的廚房巡禮~黑門市場~尋找道地B級美食－免稅店－日本第一高摩天大樓~阿倍野HARUKAS~大阪新地標(不上展望台)\", \"day3\": \"環球影城Universal Studios Japan主題樂園\", \"day4\": \"【全日自由活動】，建議您可自行前往【清水寺】、【八坂神社】、【伏見稻荷大社】、【嵐山渡月橋】...等\", \"day5\": \"【本日自由活動】，建議您可自行前往【心齋橋】或【道頓堀】逛街購物、【大阪通天閣】、【梅田Osaka Station City+ GRAND FRONT OSAKA~梅田地下街】－機場免稅店~大阪關西空港／桃園機場\"}}, {\"agency\": \"startTravel燦星\", \"href\": \"http://www.startravel.com.tw/StarTravel.Web.IGRP.Prod.V2/AProd.aspx?Prod_No=IGRP000016350\", \"prodNo\": \"IGRP000016350\", \"title\": \"關西(京都.大阪.神戶.奈良)旅遊 - 【五星★京阪神★】清水寺．北野異人館．足湯．阿倍野HARUKAS展望台．神戶牛美食饗宴5日\", \"tour\": {\"day1\": \"桃園／大阪關西機場→前往飯店休息\", \"day2\": \"清水寺．清水舞台．音羽瀧．二、三年阪－祇園~花見小路→嵐山渡月橋．嵯峨野竹林步道→藝伎回憶錄拍攝場景．千座紅色鳥居．伏見稻荷大社→摩塞克廣場散策\", \"day3\": \"北野異人館街區散策~風見雞館~老洋房中的咖啡香【特別贈送咖啡品嚐】→日本三大古泉~有馬溫泉古街散策~足湯體驗→大阪城公園(不上天守閣)→免稅店→阿倍野HARUKAS上★300展望台贈送阿倍野近鐵百貨購物卷￥2000 (美食購物皆適用)\"}}, {\"agency\": \"startTravel燦星\", \"href\": \"http://www.startravel.com.tw/StarTravel.Web.IGRP.Prod.V2/AProd.aspx?Prod_No=IGRP000015294\", \"prodNo\": \"IGRP000015294\", \"title\": \"關西(京都.大阪.神戶.奈良)旅遊 - 【魔法三都】 環球影城哈利波特、小鹿斑比、浪漫嵐山小火車．日清杯麵DIY、黑門市場五日\", \"tour\": {\"day1\": \"桃園機場／大阪關西空港－世界文化遺產~奈良東大寺~梅花鹿公園－京都新車站(斥資200億日幣~流水瀑布電扶梯~高空觀景台~摩登先端購物廣場)\", \"day2\": \"嵐山渡月橋~嵯峨野竹林步道~浪漫龜岡小火車(贈送~天婦羅、冰淇淋、京都風味小點心)－藝伎回憶錄拍攝場景．千座紅色鳥居．伏見稻荷大社－清水寺．清水舞台．音羽瀧－京風小舖老街二、三年阪－祇園古道散策~花見小路\", \"day3\": \" 泡麵最早的誕生地~日清拉麵博物館【特別贈送杯麵DIY體驗】－免稅店－大阪城公園(不上天守閣)－大阪的廚房巡禮~黑門市場~尋找道地B級美食－前往心齋橋或道頓堀逛街購物\", \"day4\": \"環球影城Universal Studios Japan主題樂園~保證入園哈利波特魔法世界\", \"day5\": \"自由活動~建議您可自行前往【大阪通天閣】、【梅田Osaka Station City+ GRAND FRONT OSAKA~梅田地下街】－機場免稅店~大阪關西空港／桃園機場\"}}, {\"agency\": \"startTravel燦星\", \"href\": \"http://www.startravel.com.tw/StarTravel.Web.IGRP.Prod.V2/AProd.aspx?Prod_No=IGRP000014897\", \"prodNo\": \"IGRP000014897\", \"title\": \"關西(京都.大阪.神戶.奈良)旅遊 - 【三都和服體驗】魔法環球影城．京都和服體驗．小玉貓列車．清水寺．伏見稻荷神社．祇園花見小路 5日\", \"tour\": {\"day1\": \"桃園／大阪關西機場－飯店(自由活動)\", \"day2\": \"環球影城Universal Studios Japan主題樂園\", \"day3\": \"藝伎回憶錄拍攝場景．千座紅色鳥居．伏見稻荷大社－感受在地日式風情~和服體驗~清水寺．清水舞台．音羽瀧．二、三年阪－祇園神社~八坂神社~祇園古道散策~花見小路\", \"day4\": \"日本三大古泉~有馬溫泉古街散策~足湯體驗－北野異人館街區散策~風見雞館 －免稅店－大阪城公園－前往心齋橋或道頓堀逛街購物\", \"day5\": \"漫步鄉間鐵道~貴志川線電鐵~探訪超人氣小玉貓站長－關西PREMIUM OUTLET購物廣場【時尚流行名牌精品】－機場免稅店~大阪關西空港／桃園機場\"}}, {\"agency\": \"startTravel燦星\", \"href\": \"http://www.startravel.com.tw/StarTravel.Web.IGRP.Prod.V2/AProd.aspx?Prod_No=IGRP000016522\", \"prodNo\": \"IGRP000016522\", \"title\": \"關西(京都.大阪.神戶.奈良)旅遊 - 【FUN暑假．五星★京阪神★】環球影城．清水寺．北野異人館．足湯．阿倍野展望台．神戶牛美食饗宴5日\", \"tour\": {\"day1\": \"桃園／大阪關西機場→前往飯店休息\", \"day2\": \"清水寺．清水舞台．音羽瀧．二、三年阪－祇園~花見小路→嵐山渡月橋．嵯峨野竹林步道→藝伎回憶錄拍攝場景．千座紅色鳥居．伏見稻荷大社→摩塞克廣場散策\", \"day3\": \"北野異人館街區散策~風見雞館~老洋房中的咖啡香【特別贈送咖啡品嚐】→日本三大古泉~有馬溫泉古街散策~足湯體驗→大阪城公園(不上天守閣)→免稅店→阿倍野HARUKAS上★300展望台贈送阿倍野近鐵百貨購物卷￥2000 (美食購物皆適用)\"}}, {\"agency\": \"startTravel燦星\", \"href\": \"http://www.startravel.com.tw/StarTravel.Web.IGRP.Prod.V2/AProd.aspx?Prod_No=IGRP000016629\", \"prodNo\": \"IGRP000016629\", \"title\": \"關西(京都.大阪.神戶.奈良)旅遊 - 【FUN暑假．四都風情】環球影城(魔法哈利波特)．阿倍野展望台．龜岡小火車．東大寺．六甲纜車 5日\", \"tour\": {\"day1\": \"台北→大阪關西海上空港→有馬溫泉街散策~搭乘六甲有馬索道纜車→神戶摩塞克美食購物廣場(Harborland)散策~2013年全新開幕~ＵＭＩＥ購物中心\", \"day2\": \" 神戶→京都龜岡浪漫小火車→嵐山渡月橋散策→界文化遺產．米其林三顆星景點．清水寺．清水舞台．阪產寧阪步道散策→千座紅色鳥居~伏見稻荷大社→晚上自由夜訪鴨川畔、先斗町古街散策或自由夜訪新京極京味小鋪、商店娃娃街及四條河原町、祗園 \", \"day3\": \"奈良梅花鹿公園→世界遺產~東大寺(擁有世界最大木造建築物的大佛殿，氣派非凡壯觀)→大阪城(不上天守閣) →免稅店→日本第一高摩天大樓~大阪新地標~阿倍野HARUKAS上★300展望台贈送阿倍野近鐵百貨購物卷￥2000 (美食購物皆適用)→自由夜訪道頓崛、心齋橋→御堂筋大道(大阪香榭大道)\", \"day4\": \"全天暢遊~搭電車前往日本環球電影城UNIVERSAL STUDIO JAPAN（侏儸紀公園．史瑞克3D．蜘蛛人．環礁湖．紐約區．史努比攝影室．西部地區．水世界）【園內暢遊並提供一票到底讓您無限歡樂】~加贈哈利波特保證入園券\", \"day5\": \"自由活動時間~建議您可自行前往【大阪通天閣】、【梅田Osaka Station City+ GRAND FRONT OSAKA~梅田地下街】→機場免稅店~大阪關西空港／桃園機場\"}}, {\"agency\": \"startTravel燦星\", \"href\": \"http://www.startravel.com.tw/StarTravel.Web.IGRP.Prod.V2/AProd.aspx?Prod_No=IGRP000014284\", \"prodNo\": \"IGRP000014284\", \"title\": \"北陸(新潟.立山.富山.名古屋)旅遊 - 【名古屋輕旅行】童話合掌村．伊勢神宮．鳥羽水族館．長島OUTLET．郡上八幡 5日\", \"tour\": {\"day1\": \"台北／名古屋空港\", \"day2\": \"郡上八幡古城區巡禮~名水百選宗祇水~郡上博覽館．郡上舞見學【贈送漫步美食~邊吃邊玩】→童話世界中的薑餅屋街道~白川鄉合掌村→北陸高原花園牧場~牧歌之里→自由夜訪榮町不夜城\"}}, {\"agency\": \"startTravel燦星\", \"href\": \"http://www.startravel.com.tw/StarTravel.Web.IGRP.Prod.V2/AProd.aspx?Prod_No=IGRP000016646\", \"prodNo\": \"IGRP000016646\", \"title\": \"北陸(新潟.立山.富山.名古屋)旅遊 - 【FUN暑假．立山風情】上高地．新穗高纜車．牧歌之里．合掌村．戀之水神社 5日\", \"tour\": {\"day1\": \"台北／名古屋空港→郡上八幡古城區巡禮~名水百選宗祇水→郡上博覽館．郡上舞見學【贈送漫步美食~邊吃邊玩】→日本三大名園~金澤兼六園→建築界最高榮譽普立茲克建築獎~金澤21世紀美術館~Leandro Erlich作品「泳池」→金澤東茶屋街、金澤香林坊商店街 \", \"day2\": \"立山連峰【軌道纜車】→美女平【高原巴士】→室堂（立山主峰）【隧道無軌電車】→大觀峰【空中纜車】→黑部平【黑部地下纜車】→黑部湖【徒步】→黑部水庫【關電隧道無軌電車】→扇澤→大町或白馬或松代溫泉\", \"day3\": \"雄壯的北阿爾卑斯山脈遊覽~新穗高纜車→飛驒三大名瀑~平湯瀑布→神賜予的禮物~國有文化特別名勝~上高地~河童橋散策\", \"day4\": \"飛驒高山小京都~古之町並~上三之町散策→童話世界中的薑餅屋街道~白川鄉合掌村→北陸高原花園牧場~牧歌之里→名古屋自由逛街購物\", \"day5\": \"都市森林中的神社~熱田神社→免稅店→結緣之神~戀之水神社→名古屋名物~蝦仙貝之里→招財貓出没~常滑陶器散步道→中部國際海上空港【日本大正江戶時代的宿場町~燈籠街~紅磚街】→台北\"}}, {\"agency\": \"startTravel燦星\", \"href\": \"http://www.startravel.com.tw/StarTravel.Web.IGRP.Prod.V2/AProd.aspx?Prod_No=IGRP000005909\", \"prodNo\": \"IGRP000005909\", \"title\": \"北陸(新潟.立山.富山.名古屋)旅遊 - 【立山風情】郡上八幡．合掌村．飛驒高山．兼六園．惠那峽遊船 六日~(名/名)\", \"tour\": {\"day1\": \"桃園國際機場／中部國際海上空港．自由欣賞空港璀璨夜景\", \"day2\": \"郡上八幡．宗祇水(名水百選)→飛驒高山→途經高山陣屋．飛驒小京都．古之町並．上三之町散策→城山公園（賞櫻名所)\", \"day3\": \"高山市→花之森．四十八潼山野草花園（賞櫻名所)→白川鄉合掌村( 聯合國世界文化遺產)→金澤兼六園(日本三大名園之賞櫻名所)→東茶屋街\", \"day4\": \"立山連峰【電動纜車】→美女平【高原巴士】→室堂（立山主峰）【隧道無軌電車】→大觀峰【空中纜車】→黑部平【黑部地下纜車】→黑部湖【徒步】→黑部水庫【關電隧道無軌電車】\", \"day5\": \"大王山葵葉農場（WASABI農場．水車小屋(世界知名導演黑澤明電影場景）→中山古道(賞櫻名所)．木曾八景．古道木曾路【馬籠宿】或【妻籠宿】散策（擇一參觀）→惠那峽遊船（日本美景百選峽谷）→免稅店\", \"day6\": \"中部國際海上空港~日本大正江戶時代的宿場町【燈籠街】~流行名品店【紅磚街】→桃園國際機場 \"}}, {\"agency\": \"startTravel燦星\", \"href\": \"http://www.startravel.com.tw/StarTravel.Web.IGRP.Prod.V2/AProd.aspx?Prod_No=IGRP000015620\", \"prodNo\": \"IGRP000015620\", \"title\": \"北陸(新潟.立山.富山.名古屋)旅遊 - 【北陸秘境】童話合掌村、新穗高纜車、飛驒高山、兼六園、郡上八幡 六日\", \"tour\": {\"day1\": \"台北／中部國際海上空港\"}}, {\"agency\": \"startTravel燦星\", \"href\": \"http://www.startravel.com.tw/StarTravel.Web.IGRP.Prod.V2/AProd.aspx?Prod_No=IGRP000016743\", \"prodNo\": \"IGRP000016743\", \"title\": \"九州(福岡.宮崎.鹿兒島)旅遊 - <font color=blue>【暖心九州Fun心玩】</font>太宰府旅人列車、御船山樂園、未來長崎Coco Walk 、九十九島遊船5日\", \"tour\": {\"day1\": \"台北→福岡空港→旅人列車→太宰府天滿宮→赤間神宮→春帆樓→門司港自由散策\", \"day2\": \"御船山樂園→祐德稻荷神社→長崎和平公園→原爆資料館→未來長崎Coco Walk→長崎\", \"day3\": \"★九十九島遊覽船+水族館+挖珍珠體驗+海豚表演+動植物園(含動物餵食)→長崎蛋糕專賣店→長崎\", \"day4\": \"蝴蝶夫人故居-哥拉巴公園-尋找愛戀的心石→佐賀城丸歷史館→舊古賀家→佐嘉神社→舊古賀銀行→鳥栖 PREMIUM OUTLETS→福岡(可自行夜訪JR博多城) \", \"day5\": \"自由活動→免稅店→福岡空港／桃園機場 \"}}, {\"agency\": \"startTravel燦星\", \"href\": \"http://www.startravel.com.tw/StarTravel.Web.IGRP.Prod.V2/AProd.aspx?Prod_No=IGRP000016682\", \"prodNo\": \"IGRP000016682\", \"title\": \"九州(福岡.宮崎.鹿兒島)旅遊 - <font color=blue>【九州好豪玩】</font>長崎千萬夜景．九十九島遊船．豪斯登堡．九州自動車博物館．湯布院．金麟湖溫泉5日\", \"tour\": {\"day1\": \"台北桃園國際機場／福岡空港→春帆樓→赤間神宮→門司港巡禮→門司港RETORO展望室→九州第一名湯~別府溫泉鄉\", \"day2\": \" 湯布院藝術小鎮~金麟湖森林小徑（日本女性票選全日本內最愛景點~KITTY專賣店．手工果醬工房．湯布院咖啡小館逛街購物趣）→九州自動車歷史館→湯之坪街道→立野火口瀨→白川水源→水前寺成趣園→熊本~島原【特別安排搭乘跨海高速郵輪橫渡有明海】→長崎千萬美人夜景~稻佐山千萬夜景【特別安排纜車來回】\", \"day3\": \"搭乘九十九島遊覽船~媲美日本三景松島之九十九島美景→九十九島海洋KIRARA水族館~九十九島灣大水槽~水母交響樂廳~海豚戲水池~親身體驗挖珍珠樂趣－亞洲最大休閒度假主題樂園~復古歐洲渡假城鎮~豪斯登堡\", \"day4\": \"亞洲最大休閒度假主題樂園豪斯登堡世界~IFX劇場Kirara(耗資巨額日幣，由萬博會會場原封不動移至豪斯登堡)、洪水來襲冒險館、裝飾玻璃博物館、泰迪熊王國、音樂盒幻想曲、魔幻境迷宮、繽紛夜風華街頭綜藝秀、繽紛歐洲花園漫步、魔幻城堡、~白色摩天輪有幸福的象徵意義，不管是搭乘或觀看都可以讓人感受到無比幸福~(如需搭乘需自費700日幣)→免稅店→博多運河城．購物天堂品牌眾多且集中，可讓您一次購足\", \"day5\": \"全日自由活動( 可自由前往福岡塔Fukuoka Tower．海鷹巨蛋．握手廣場巡禮...等等 ) ~機場商店街、自由購物 ~九州．福岡空港／桃園機場\"}}, {\"agency\": \"startTravel燦星\", \"href\": \"http://www.startravel.com.tw/StarTravel.Web.IGRP.Prod.V2/AProd.aspx?Prod_No=IGRP000016860\", \"prodNo\": \"IGRP000016860\", \"title\": \"九州(福岡.宮崎.鹿兒島)旅遊 - <font color=blue>【九州空降007】</font>長崎軍艦島．九重夢大吊橋．阿蘇纜車．哥拉巴花園．湯布院．金麟湖5日\", \"tour\": {\"day1\": \"台北桃園國際機場／福岡空港－日本學業成就祈願首推~太宰府．天滿宮（心字池．太鼓橋．櫻門．筆塚）－九州第一名湯~別府溫泉鄉\", \"day2\": \"別府溫泉－湯布院藝術小鎮~金麟湖森林小徑（日本女性票選全日本內最愛景點~KITTY專賣店．手工果醬工房．湯布院咖啡小館逛街購物趣）－日本第一大吊橋~天空步道~九重夢大吊橋－阿蘇火山（搭乘纜車來回）－阿蘇草千里－途經阿蘇米塚－熊本南關溫泉或阿蘇溫泉\", \"day3\": \"南關或阿蘇溫泉－日本三大稻荷神社~祐德神社－知名歌劇「長崎蝴蝶夫人」的真實故居~哥拉巴花園~南山手居留地散策－世界新大三夜景~長崎稻佐山千萬浪漫美景\", \"day4\": \"長崎－【007史上最賣座~空降危機影片場景】搭乘渡輪前往長崎端島~軍艦島（船程單趟約45分鐘~上島約45分鐘）－免稅店－福岡購物聖地~博多運河城－福岡\", \"day5\": \"福岡－福岡空港．機場免稅店／台北桃園國際機場\"}}, {\"agency\": \"startTravel燦星\", \"href\": \"http://www.startravel.com.tw/StarTravel.Web.IGRP.Prod.V2/AProd.aspx?Prod_No=IGRP000016691\", \"prodNo\": \"IGRP000016691\", \"title\": \"九州(福岡.宮崎.鹿兒島)旅遊 - <font color=blue>【漫步北九州】</font>忍者村．佐賀歷史館．長崎原爆館．企鵝水族館．稻佐山夜景．鳥栖OUTLETS 5日 \", \"tour\": {\"day1\": \"桃園機場／日本．九州福岡空港 →關門大橋．關門海峽→赤間神宮．春帆樓(馬關條約簽訂地點)→海底隧道→懷舊門司港散策．洋館巡禮．JR門司港站．舊門司稅關所．海峽廣場購物中心 \", \"day2\": \"日本學業成就祈願首推~太宰府．天滿宮（心字池．太鼓橋．櫻門．筆塚) →柳川遊船→佐賀城本丸歷史館) →嬉野溫泉街肥前夢通散策→酒店\", \"day3\": \"長崎企鵝水族館．與可愛企鵝親密接觸→長崎原爆資料館→平和公園→長崎稻佐山【特別安排纜車來回】．日本三大夜景之一．美人千萬夜景→飯店\", \"day4\": \"長崎蛋糕專賣店．品嚐元祖點心美味→→舊古賀家→佐嘉神社→舊古賀銀行→鳥栖 PREMIUM OUTLETS→福岡\", \"day5\": \"自由活動→免稅店→福岡空港／桃園機場 \"}}, {\"agency\": \"startTravel燦星\", \"href\": \"http://www.startravel.com.tw/StarTravel.Web.IGRP.Prod.V2/AProd.aspx?Prod_No=IGRP000015006\", \"prodNo\": \"IGRP000015006\", \"title\": \"九州(福岡.宮崎.鹿兒島)旅遊 - <font color=blue>【FUN暑假．親子雙樂園】</font> ★九州豪斯登堡．HELLOKITTY樂園．企鵝水族館．冰淇淋DIY．長崎夜景溫泉五日\", \"tour\": {\"day1\": \"桃園機場／日本．九州福岡空港 →企鵝水族館→哥拉巴花園(米其林綠指南一星景點)→長崎 \"}}, {\"agency\": \"startTravel燦星\", \"href\": \"http://www.startravel.com.tw/StarTravel.Web.IGRP.Prod.V2/AProd.aspx?Prod_No=IGRP000016589\", \"prodNo\": \"IGRP000016589\", \"title\": \"九州(福岡.宮崎.鹿兒島)旅遊 - <font color=blue>【南九州】</font>酷MA萌廣場、啤酒工場、黑醋工廠見學、JR肥薩、櫻島渡輪、砂浴五日(福/福)\", \"tour\": {\"day1\": \" 桃園國際機場→福岡機場→Kumamon Square酷MA萌廣場→三得利九州熊本工場\", \"day2\": \"JR九州肥薩線→鹿兒島→城山公園→池田湖→指宿砂浴溫泉旅館\", \"day3\": \"篤姬庭園→錦江灣渡輪→櫻島火山→角志田黑醋體驗→宮崎鵜戶神宮\", \"day4\": \"青島神社→高千璣峽谷→→→杖立肥前屋(橫跨熊本鹿兒島，酒店內擁有6大溫泉)\", \"day5\": \"湯布院藝術小鎮→金麟湖→免稅店→博多運河→福岡機場/桃園國際機場\"}}, {\"agency\": \"startTravel燦星\", \"href\": \"http://www.startravel.com.tw/StarTravel.Web.IGRP.Prod.V2/AProd.aspx?Prod_No=IGRP000016495\", \"prodNo\": \"IGRP000016495\", \"title\": \"九州(福岡.宮崎.鹿兒島)旅遊 - <font color=blue>【宮崎砂浴】</font>日南關之尾、霧島野溪溫泉、篤姬砂浴5日(宮崎進出)\", \"tour\": {\"day1\": \"台北→ 日本九州~ 宮崎空港→ 宮崎或青島之夜\", \"day2\": \"宮崎或青島→ 平和台公園→ 世界最大~ 關之尾甌穴群→ 日本百選瀑布~ 關之尾瀑布→ 高千穗牧場- 親近小動物→ 霧島神宮~ 杉木道→ 霧島溫泉 (真心推薦自費體驗：綠溪湯苑野溪溫泉￥550)\", \"day3\": \"霧島溫泉→ 篤姬物語~ 鹿兒島風華→ 九州第一名園~ 島津藩主別邸『磯庭園』~ 篤姬拍片場景→ 搭乘櫻島渡輪∼ 櫻島活火山探勝奇觀~ 有村溶岩展望所→ 九州最大湖泊~ 池田湖∼ 遠眺開聞岳→ 本土最南端~ 長崎鼻燈塔→ 薩摩半島~ 指宿溫泉∼ 享受著名砂浴SPA之夜\", \"day4\": \"指宿溫泉→ 鹿兒島港∼ 搭乘渡輪- 欣賞錦江灣風光∼ 垂水港→ 鹿屋自衛隊基地→ 鵜戶神宮- 又名洞窟神宮→ 日南海岸- 鬼之洗濯板→ 宮崎喜來登海洋RESORT- 飽覽豪華海景\", \"day5\": \"宮崎→ 佛倫特植物花園- 變葉植物、園藝特展→ 酒泉之杜- 精緻品酩、無限暢飲→ 宮崎JUSCO百貨公司→ 宮崎機場→ 台北\"}}, {\"agency\": \"startTravel燦星\", \"href\": \"http://www.startravel.com.tw/StarTravel.Web.IGRP.Prod.V2/AProd.aspx?Prod_No=IGRP000015821\", \"prodNo\": \"IGRP000015821\", \"title\": \"沖繩 (琉球)旅遊 - <font color=\\\"#CD2990\\\">【郵輪假期】</font> 2016麗星郵輪~寶瓶星號~日本石垣島3天2夜(每週三出發)\", \"tour\": {\"day1\": \"台北 / 基隆港─寶瓶星號【19：00登船/20：30關閘】 <海上巡航>\", \"day2\": \"石垣島【11：00抵達】－登岸自行觀光─寶瓶星號【21：00登船/22：00關閘】<海上巡航>\"}}, {\"agency\": \"startTravel燦星\", \"href\": \"http://www.startravel.com.tw/StarTravel.Web.IGRP.Prod.V2/AProd.aspx?Prod_No=IGRP000015822\", \"prodNo\": \"IGRP000015822\", \"title\": \"沖繩 (琉球)旅遊 - <font color=\\\"#CD2990\\\">【郵輪假期】</font> 2016麗星郵輪~寶瓶星號~日本歡樂海洋假期3天2夜(每週五出發)\", \"tour\": {\"day1\": \"台北 / 基隆港─寶瓶星號【19：00登船/20：30關閘】 <海上巡航>\", \"day2\": \"與那國島海域【09：00抵達】－寶瓶星號【09：30出發】<海上巡航>\", \"day3\": \"海上巡航─基隆港【11：00抵達】/ 台北\"}}, {\"agency\": \"startTravel燦星\", \"href\": \"http://www.startravel.com.tw/StarTravel.Web.IGRP.Prod.V2/AProd.aspx?Prod_No=IGRP000016546\", \"prodNo\": \"IGRP000016546\", \"title\": \"沖繩 (琉球)旅遊 - <font color=\\\"#CC0099\\\">【FUN暑假】【樂遊琉球】</font>海洋博紀念公園．亞熱帶森林．玉泉洞王國村．守禮門．美國村4日 (復興)\", \"tour\": {\"day1\": \"桃園機場／那霸空港→路經~波之上神宮~孔子廟→自行前往逛街國際通大道或新都心商圈\", \"day2\": \"北谷美國村【AEON SHOPPING CENTER】→琉球風體驗王國村→海洋博紀念公園【海豚表演、世界最美之海水族館】→亞熱帶水果樂園【水果樂園、蝴蝶樂園、鳥園】\", \"day3\": \"世界文化遺產．守禮門．首里城跡【外城】→藥妝店→加贈【銀河探險號半潛水艇或玻璃船】→玉泉鐘乳石洞．文化王國村．造酒場．琉球傳統大鼓隊\", \"day4\": \"飯店→那霸空港／桃園機場\"}}, {\"agency\": \"startTravel燦星\", \"href\": \"http://www.startravel.com.tw/StarTravel.Web.IGRP.Prod.V2/AProd.aspx?Prod_No=IGRP000016929\", \"prodNo\": \"IGRP000016929\", \"title\": \"沖繩 (琉球)旅遊 - <font color=\\\"#CC0099\\\">【半自遊行】</font>神宮祈福、首里城跡、王國文化、新都心血拚4日\", \"tour\": {\"day1\": \"台北沖繩﹝琉球﹞→波之上神宮→孔子廟→自行逛街新都心商圈→飯店\", \"day2\": \"世界文化遺產→守禮門→首里城跡(外城)→玉泉鐘乳石洞→文化王國村→造酒場→琉球傳統大鼓隊\", \"day3\": \"自由活動~您可搭乘軌電車（贈送一日軌電車券）前往那霸市新都心SHOPPING MALL或國際名人通\", \"day4\": \"飯店→那霸空港／桃園機場\"}}, {\"agency\": \"startTravel燦星\", \"href\": \"http://www.startravel.com.tw/StarTravel.Web.IGRP.Prod.V2/AProd.aspx?Prod_No=IGRP000016478\", \"prodNo\": \"IGRP000016478\", \"title\": \"沖繩 (琉球)旅遊 - <font color=\\\"#4169E1\\\">【琉球超值】</font>永旺夢樂城、琉球風體驗王國村、水族館、暢遊國際通 超值四日 (華航~晚去晚回)\", \"tour\": {\"day1\": \"台北－沖繩－波之上神宮－永旺夢樂城沖繩來客夢 AEON MALL OKINAWA RYCOM\", \"day2\": \"GALA海鹽館 －琉球風體驗王國村MURASAKI MURA －海洋博公園 ( 水族館、海豚表演 ) －OKINAWA水果樂園\", \"day3\": \"琉球王朝古蹟【守禮門、首里城 ( 外城 ) 】－藥妝店或JTC百貨購物店－贈送銀河探險號半潛水艇－玉泉洞王國村 + 琉球大鼓隊表演－自行逛街國際通或新都心商圈\", \"day4\": \"那霸－台北\"}}, {\"agency\": \"startTravel燦星\", \"href\": \"http://www.startravel.com.tw/StarTravel.Web.IGRP.Prod.V2/AProd.aspx?Prod_No=IGRP000016656\", \"prodNo\": \"IGRP000016656\", \"title\": \"沖繩 (琉球)旅遊 - <font color=\\\"#CC0099\\\">【FUN暑假】【琉球超值】</font>永旺夢樂城、琉球風體驗王國村、水族館、暢遊國際通 超值四日 (復興)\", \"tour\": {\"day1\": \"台北－沖繩－波之上神宮－永旺夢樂城沖繩來客夢 AEON MALL OKINAWA RYCOM\", \"day2\": \"GALA海鹽館(贈送海鹽冰淇淋)－琉球風體驗王國村MURASAKI MURA －海洋博公園 ( 水族館、海豚表演 ) －OKINAWA水果樂園\", \"day3\": \"琉球王朝古蹟【守禮門、首里城 ( 外城 ) 】－藥妝店或JTC百貨購物店－贈送銀河探險號半潛水艇－玉泉洞王國村 + 琉球大鼓隊表演－自行逛街國際通或新都心商圈\", \"day4\": \"那霸－台北\"}}, {\"agency\": \"startTravel燦星\", \"href\": \"http://www.startravel.com.tw/StarTravel.Web.IGRP.Prod.V2/AProd.aspx?Prod_No=IGRP000015823\", \"prodNo\": \"IGRP000015823\", \"title\": \"沖繩 (琉球)旅遊 - <font color=\\\"#CD2990\\\">【郵輪假期】</font> 2016麗星郵輪~寶瓶星號~沖繩宮古雙嬉假期4天3夜(每週日出發)\", \"tour\": {\"day1\": \"台北 / 基隆港─寶瓶星號【14：00登船/15：30關閘】 <海上巡航>\", \"day2\": \"抵達宮古島【09：00(日本時間)】~全日自由活動(或選擇自費島上一日遊)~宮古島啟航【18：00(日本時間)】\", \"day3\": \"抵達沖繩那霸【08：00(日本時間)】~全日自由活動(或選擇自費島上一日遊)~沖繩那霸啟航【18：00(日本時間)】\", \"day4\": \"海上巡航─基隆港【16：00抵達】/ 台北\"}}, {\"agency\": \"startTravel燦星\", \"href\": \"http://www.startravel.com.tw/StarTravel.Web.IGRP.Prod.V2/AProd.aspx?Prod_No=IGRP000014779\", \"prodNo\": \"IGRP000014779\", \"title\": \"沖繩 (琉球)旅遊 - 【樂遊沖繩】海洋博紀念公園．亞熱帶森林．玉泉洞王國村．守禮門．美國村4日(華航)\", \"tour\": {\"day1\": \"桃園機場／那霸空港→自行前往逛街國際通大道或新都心商圈\", \"day2\": \"北谷美國村【AEON SHOPPING CENTER】→琉球風體驗王國村→海洋博紀念公園【海豚表演、世界最美之海水族館】→亞熱帶水果樂園【水果樂園、蝴蝶樂園、鳥園】\", \"day3\": \"世界文化遺產．守禮門．首里城跡【外城】→藥妝店→免稅店→加贈【銀河探險號半潛水艇或玻璃船】→玉泉鐘乳石洞．文化王國村．造酒場．琉球傳統大鼓隊\", \"day4\": \"自行前往逛街國際通大道或新都心商圈→路經~波之上神宮~孔子廟→那霸空港／桃園機場\"}}, {\"agency\": \"startTravel燦星\", \"href\": \"http://www.startravel.com.tw/StarTravel.Web.IGRP.Prod.V2/AProd.aspx?Prod_No=IGRP000016843\", \"prodNo\": \"IGRP000016843\", \"title\": \"沖繩 (琉球)旅遊 - <font color=\\\"#8B0A50\\\">【沖繩農村體驗】</font>今歸仁民泊．傳統DIY．古宇利．美國村．海豚表演4日\", \"tour\": {\"day1\": \"桃園國際機場→那霸國際機場→今歸仁城→【民泊家庭互動體驗】\", \"day2\": \"今歸仁村→古宇利島→砍甘庶＋黑糖製作DlY→與民泊主人互道珍重再見→飯店\", \"day3\": \"世界文化遺產~守禮門．首里城跡(外城)→有機香草園→玉泉鐘乳石洞→琉球王國村．傳統琉球大鼓秀→飯店\", \"day4\": \"飯店→市區自由活動（自行前往機場）→那霸國際機場→桃園國際機場\"}}, {\"agency\": \"startTravel燦星\", \"href\": \"http://www.startravel.com.tw/StarTravel.Web.IGRP.Prod.V2/AProd.aspx?Prod_No=IGRP000016853\", \"prodNo\": \"IGRP000016853\", \"title\": \"沖繩 (琉球)旅遊 - <font color=\\\"#FF0000\\\">【沖繩GO】</font>華航PAK海洋沖繩GO時尚(住宿：Southern Beach Resort一晚)4日\", \"tour\": {\"day1\": \"台北（桃園國際機場）→沖繩（那霸國際機場）→琉球玻璃村自製玻璃杯體驗→玉泉洞王國村－琉球大鼓隊表演→經高速公路前往渡假酒店\", \"day2\": \"名護ORION啤酒廠→古宇利大橋→沖繩海洋博紀念公園(海豚表演秀、沖繩美之海水族館)→永旺商城AEON MALL RYCOM\", \"day3\": \"首里城(外城)→北谷美國村逛街→BIOS山中森林+環湖之旅\", \"day4\": \"那霸~波之上神宮－孔子廟—Outlet暢貨中心--那霸機場--台北 \"}}, {\"agency\": \"startTravel燦星\", \"href\": \"http://www.startravel.com.tw/StarTravel.Web.IGRP.Prod.V2/AProd.aspx?Prod_No=IGRP000016398\", \"prodNo\": \"IGRP000016398\", \"title\": \"沖繩 (琉球)旅遊 - <font color=\\\"#FF0000\\\">【沖繩GO】</font>華航PAK海洋沖繩GO時尚(住宿： Marriott一晚)4日\", \"tour\": {\"day1\": \" 台北（桃園國際機場）→沖繩（那霸國際機場）→琉球玻璃村自製玻璃杯體驗→玉泉洞王國村－琉球大鼓隊表演→經高速公路前往渡假酒店 \", \"day2\": \" 名護ORION啤酒廠→古宇利大橋→沖繩海洋博紀念公園(海豚表演秀、沖繩美之海水族館)→永旺商城AEON MALL RYCOM \", \"day3\": \" 首里城(外城)→北谷美國村逛街→BIOS山中森林+環湖之旅 \", \"day4\": \" 那霸~波之上神宮－孔子廟—Outlet暢貨中心--那霸機場--台北 \"}}, {\"agency\": \"startTravel燦星\", \"href\": \"http://www.startravel.com.tw/StarTravel.Web.IGRP.Prod.V2/AProd.aspx?Prod_No=IGRP000016434\", \"prodNo\": \"IGRP000016434\", \"title\": \"沖繩 (琉球)旅遊 - 【沖繩跳島之最】華航PAK~藍海秘境久米島4日\", \"tour\": {\"day1\": \"台北 / 那霸 / 久米島─ 參觀久米大明蝦養殖場─ 百年樹齡的五枝松－ 鄉道野景單車行\", \"day2\": \"前往HATENOHAMA夢幻白沙島－ 比屋定山崖－ 久米仙泡盛酒場－ 日本國家指定天然奇景疊石－ 海洋深層水美膚館泡湯體驗\", \"day3\": \"久米島海葡萄養殖場－ 久米島味噌名產－ 那霸機場－ 永旺夢樂城AEON MALL RYCOM\", \"day4\": \"波之上神宮－ 孔子廟－ 守禮門(守里外城)－ 玉泉洞王國村－ 琉球大鼓隊表演－ Outlet Mall名牌暢貨中心－ 那霸機場 / 台北\"}}, {\"agency\": \"startTravel燦星\", \"href\": \"http://www.startravel.com.tw/StarTravel.Web.IGRP.Prod.V2/AProd.aspx?Prod_No=IGRP000016508\", \"prodNo\": \"IGRP000016508\", \"title\": \"東北(青森.秋田.花卷.仙台)旅遊 - 東北奧之細道★十和田湖、松島遊船、嚴美溪、溫泉饗宴4日~(花卷進出／華航)\", \"tour\": {\"day1\": \"桃園國際機場／東北花卷空港 → 小岩井農場\", \"day2\": \"飯店 → 十和田湖 → 奧入瀨溪流散策 → 角館．武家屋敷通．檜木內川堤 → 田澤湖\", \"day3\": \"中尊寺散步山道 → 嚴美溪 → 鹽釜神社 → 免稅店 → 松島遊船 → 五大堂\", \"day4\": \"東北花卷空港／桃園國際機場\"}}, {\"agency\": \"startTravel燦星\", \"href\": \"http://www.startravel.com.tw/StarTravel.Web.IGRP.Prod.V2/AProd.aspx?Prod_No=IGRP000016855\", \"prodNo\": \"IGRP000016855\", \"title\": \"東北(青森.秋田.花卷.仙台)旅遊 - 【日本東北楓紅秘境深度之旅】大正浪漫、保證入住星野青森屋、奧入瀨溪米其林三星、奧之細道、嚴美溪、松島遊船、溫泉深度之旅7日\", \"tour\": {\"day1\": \"第一航集合(桃園國際機場)→仙台空港→HOTEL→享用完特別安排的山形蕎麥麵御膳後可自由夜訪山形城跡「霞城公園」(離飯店徒步七分鐘)或紅葉公園~池泉回遊式庭園，飯店一樓即有便利店LAWSON\", \"day2\": \"HOTEL→遠眺楓紅山寺→神隱少女銀山溫泉→午餐→「米其林綠指南」三星認證！樹齡500年杉樹神林道~日本國寶的五重塔~山岳信仰祖師「役小角祕法之道」→HOTEL(飯店鄰近7-11)\", \"day3\": \"HOTEL→奧之細道「日和山公園」→阿信的家「舊燈屋」→奧斯卡最佳外語片「送行者」拍攝地 山居倉庫→酒田藝妓起源~相馬樓舞娘踊舞(若當日因婚宴取消演出將每位貴賓退300日幣觀賞費) →午餐→秋田除夕剝皮鬼節~體驗NAMAHAGE秀~男鹿真山傳承館→北緯40度－日本唯一入道崎黑白燈塔（有機會欣賞日本海夕陽餘暉）→ HOTEL→秋田市自由參訪(購物中心徒步僅5分鐘。 便利店徒步僅2分鐘)\", \"day4\": \"HOTEL→早餐前建議前往飯店旁的『長木川』觀賞白鳥棲息。→弘前蘋果公園(每房贈送一公斤蘋果) →午餐→弘前城 →八甲田山(纜車)→市場獨家!東北小嵐山~日本紅葉百選~中野紅葉山觀賞夜楓→飯店\"}}, {\"agency\": \"startTravel燦星\", \"href\": \"http://www.startravel.com.tw/StarTravel.Web.IGRP.Prod.V2/AProd.aspx?Prod_No=IGRP000016852\", \"prodNo\": \"IGRP000016852\", \"title\": \"山陰、山陽(鳥取.岡山.廣島)旅遊 - 【四國風情】小豆島天使步道．寒霞溪纜車．二十四之瞳映畫村．倉敷．摩耶山．吹屋 5日(無購物)\", \"tour\": {\"day1\": \" 台灣桃園機場→關西機場→神戶異人館區→日本三大夜景之一 摩耶山夜景\"}}, {\"agency\": \"startTravel燦星\", \"href\": \"http://www.startravel.com.tw/StarTravel.Web.IGRP.Prod.V2/AProd.aspx?Prod_No=IGRP000016831\", \"prodNo\": \"IGRP000016831\", \"title\": \"關西-台中出發旅遊 - 【中秋連休、魔法三都】 環球影城哈利波特、小鹿斑比、浪漫嵐山小火車．日清杯麵DIY、黑門市場五日\", \"tour\": {\"day1\": \"桃園機場／大阪關西空港－世界文化遺產~奈良東大寺~梅花鹿公園－京都新車站(斥資200億日幣~流水瀑布電扶梯~高空觀景台~摩登先端購物廣場)\", \"day2\": \"嵐山渡月橋~嵯峨野竹林步道~浪漫龜岡小火車(贈送~天婦羅、冰淇淋、京都風味小點心)－藝伎回憶錄拍攝場景．千座紅色鳥居．伏見稻荷大社－清水寺．清水舞台．音羽瀧－京風小舖老街二、三年阪－祇園古道散策~花見小路\", \"day3\": \" 泡麵最早的誕生地~日清拉麵博物館【特別贈送杯麵DIY體驗】－免稅店－大阪城公園(不上天守閣)－大阪的廚房巡禮~黑門市場~尋找道地B級美食－前往心齋橋或道頓堀逛街購物\", \"day4\": \"環球影城Universal Studios Japan主題樂園~保證入園哈利波特魔法世界\", \"day5\": \"自由活動~建議您可自行前往【大阪通天閣】、【梅田Osaka Station City+ GRAND FRONT OSAKA~梅田地下街】－機場免稅店~大阪關西空港／桃園機場\"}}, {\"agency\": \"startTravel燦星\", \"href\": \"http://www.startravel.com.tw/StarTravel.Web.IGRP.Prod.V2/AProd.aspx?Prod_No=IGRP000016757\", \"prodNo\": \"IGRP000016757\", \"title\": \"北海道-高雄出發旅遊 - 高雄出發~花戀北國~釧路濕原~螃蟹溫泉美食五日\", \"tour\": {\"day1\": \"高雄小港國際機場／北海道千歲空港→十勝溫泉(露天美人湯~世界稀有的植物性溫泉)日本唯一之植物性MORU溫泉\", \"day2\": \"釧路濕原展望台→摩周湖(神秘的湖)(摩周的藍寶石)→屈斜路湖~砂湯體驗→阿寒湖(天然保育植物MARIMO綠球藻生植地)？阿寒湖溫泉街散策？傳統愛努村落(Kotan)\", \"day3\": \"東藻琴芝櫻公園【芝櫻約五月上旬-六月上旬】→上湧別町鬱金香公園【鬱金香約五月上旬-六月上旬】→瀧上公園【芝櫻約五月上旬-六月上旬】→層雲峽國立公園→銀河流星瀑布(百選瀑布)→層雲峽 \", \"day4\": \"小樽羅曼蒂克運河道、舊倉庫群、古老蒸氣鐘、北一硝子工藝館、音樂鐘館、北菓樓、六花亭》→大通公園→免稅店→札幌(自由夜訪狸小路) \", \"day5\": \"札幌市內觀光【路經時計台、舊道廳】→三井OUTLET MALL 購物商場→北海道千歲空港／高雄小港國際機場 \"}}, {\"agency\": \"startTravel燦星\", \"href\": \"http://www.startravel.com.tw/StarTravel.Web.IGRP.Prod.V2/AProd.aspx?Prod_No=IGRP000016916\", \"prodNo\": \"IGRP000016916\", \"title\": \"北海道-高雄出發旅遊 - 初秋限定【秋醉紅葉★北海道】</font>保證入住五星希爾頓、洞爺湖煙火、函館夜景、可愛企鵝散步、OUTLET購物、三大螃蟹吃到飽5日(千/千)\", \"tour\": {\"day1\": \"今日帶著輕鬆的心情集合於高雄小港國際機場，辦理出境手續後，搭乘豪華客機直接飛往北海道門戶【新千歲空港】→飯店\"}}, {\"agency\": \"startTravel燦星\", \"href\": \"http://www.startravel.com.tw/StarTravel.Web.IGRP.Prod.V2/AProd.aspx?Prod_No=IGRP000014219\", \"prodNo\": \"IGRP000014219\", \"title\": \"北海道-高雄出發旅遊 - ★高雄出發-浪漫北海道、百萬夜景、海鮮饗宴溫泉美食6天\", \"tour\": {\"day1\": \"高雄／新千歲空港─千歲或札幌 \", \"day2\": \" ●登別地獄谷(實際感受一下地獄的震撼力)─◎北海道最大海洋世界王國．北歐浪漫奇觀．尼克斯海洋公園．國王企鵝大遊行─經長萬部─★元町異人館街【金森倉庫群．西波止場．明治館】─△世界三大夜景之一．函館山百萬夜景【搭乘纜車欣賞百萬夜景】(2011年米其林評鑑為最高級的三顆星旅行之地)─湯之川溫泉鄉或函館\", \"day3\": \"★人氣景點日本三大朝市之一．函館朝市─●星形．五稜郭城跡公園(2011年米其林評鑑為最高級的二顆星旅行之地)─●日本新三景．大小沼國定公園─★洞爺湖環湖雕刻公園~△城堡號洞爺湖遊船─洞爺湖溫泉或登別\", \"day4\": \"昭和新山(昭和年代形成的一座新火山標高407公尺，仍不斷冒出白煙的活火山容十分壯觀)－★◎昭和新山熊牧場(園區內飼養著100頭左右的棕熊)─小樽運河(最浪漫的知名小鎮) ─銀之鐘咖啡館(贈咖啡杯．暢飲熱咖啡、熱茶．尚有冷飲)─音樂鐘博物館(日本最早音樂鐘，每日展示13000件音樂盒)─北一硝子館(日本玻璃最早製作場所)─札幌或定山溪\", \"day5\": \"●札幌市區觀光【時計台．舊道廳．大通公園】─◎北海道開拓村─免稅店─札幌自由活動您可自由前往狸小路商店街或薄野特區─札幌或千歲或定山溪\", \"day6\": \"北海道神宮─白色戀人石屋工廠見學★贈送每人一份白色戀人巧克力─~★北海道最大．千歲Outlet Mall購物廣場~新千歲空港／高雄\"}}, {\"agency\": \"startTravel燦星\", \"href\": \"http://www.startravel.com.tw/StarTravel.Web.IGRP.Prod.V2/AProd.aspx?Prod_No=IGRP000016779\", \"prodNo\": \"IGRP000016779\", \"title\": \"北海道-高雄出發旅遊 - 高雄出發~花戀北國~紫愛美瑛~螃蟹溫泉美食五日\", \"tour\": {\"day1\": \"高雄小港國際機場／北海道千歲空港→登別星空溫泉~登別溫泉街(極樂通商店街)~極樂通閻魔王變臉秀~登別鬼火之路\", \"day2\": \"大沼、小沼國立公園→昆布館、流冰世界映像館→函館女子修道院(特別贈送香濃冰淇淋)→金森紅磚倉庫 自由散策(金森倉庫群區、八幡坂、天主教元町教會、元町異人館街)→函館百萬夜景(米其林三星景點)(星空纜車來回)\", \"day3\": \"函館朝市→五稜廓(夢幻星形)→昭和新山→昭和新山熊牧場(加贈熊餅乾OR熊蘋果可餵食卡哇伊棕熊)→洞爺湖畔散策→晚間搭乘花火觀賞船(20:30，船程約30分鐘)欣賞夜間煙火→洞爺湖星空溫泉 \", \"day4\": \"免稅店→小樽市浪漫遊【小樽運河、北一硝子館、歐風蒸氣鐘、小樽音樂盒堂博物館、六花亭、北菓樓(特別贈送濃郁大泡芙)、銀鐘1、2号咖啡館(贈送香醇咖啡+咖啡杯+起司小蛋糕)】→市區觀光 (路經：時計台、舊道廳）→大通公園→札幌(自由前往貍小路)\", \"day5\": \"富田農場→富良野、紫彩美瑛拼布之路→四季彩之丘~搭乘花田列車欣賞各式各樣花卉→新千歲空港／高雄小港國際機場\"}}, {\"agency\": \"startTravel燦星\", \"href\": \"http://www.startravel.com.tw/StarTravel.Web.IGRP.Prod.V2/AProd.aspx?Prod_No=IGRP000016817\", \"prodNo\": \"IGRP000016817\", \"title\": \"北海道-高雄出發旅遊 - ★高雄出發-紫戀北海道~尼克斯、富良野浪漫花田、溫泉美食饗宴5天\", \"tour\": {\"day1\": \"高雄小港國際機場／新千歲空港─札幌\", \"day2\": \"●小樽運河(最浪漫的知名小鎮)─銀之鐘咖啡館(贈咖啡杯．暢飲熱咖啡、熱茶．尚有冷飲)─音樂鐘博物館(日本最早音樂鐘，每日展示13000件音樂盒)─北一硝子館(日本玻璃最早製作場所)─△小樽天狗山空中纜車．眺望古城街景\", \"day3\": \"羊蹄山名水公園─◎北海道最大海洋世界王國．北歐浪漫奇觀．登別尼克斯海洋公園．國王企鵝大遊行─●札幌市區觀光【途經時計台．舊道廳．大通公園】─★特別升等入住★哈密瓜的故鄉夕張溫泉 SHUPARO飯店 \"}}, {\"agency\": \"startTravel燦星\", \"href\": \"http://www.startravel.com.tw/StarTravel.Web.IGRP.Prod.V2/AProd.aspx?Prod_No=IGRP000016915\", \"prodNo\": \"IGRP000016915\", \"title\": \"關西-高雄出發旅遊 - 高雄出發~【時尚大阪】環球影城．哈利波特．手塚治蟲記念館．黑門市場．阿倍野HARUKAS  5日\", \"tour\": {\"day1\": \"高雄小港國際機場／大阪關西空港－【本日自由活動】，建議您可自行前往【心齋橋】或【道頓堀】逛街購物、【大阪通天閣】、【梅田Osaka Station City+ GRAND FRONT OSAKA~梅田地下街】－前往住宿飯店休息\", \"day2\": \"北野異人館街區散策~老洋房中的咖啡香【特別贈送咖啡品嚐】－漫畫大師~手塚治蟲記念館~原子小金剛．怪醫黑傑克故鄉－大阪的廚房巡禮~黑門市場~尋找道地B級美食－免稅店－日本第一高摩天大樓~阿倍野HARUKAS~大阪新地標(不上展望台)\", \"day3\": \"環球影城Universal Studios Japan主題樂園~~哈利波特保證入園\", \"day4\": \"【全日自由活動】，建議您可自行前往【清水寺】、【八坂神社】、【伏見稻荷大社】、【嵐山渡月橋】...等\", \"day5\": \"機場免稅店~大阪關西空港／高雄小港國際機場\"}}, {\"agency\": \"startTravel燦星\", \"href\": \"http://www.startravel.com.tw/StarTravel.Web.IGRP.Prod.V2/AProd.aspx?Prod_No=IGRP000009409\", \"prodNo\": \"IGRP000009409\", \"title\": \"關西-高雄出發旅遊 - 高雄出發-漫遊京阪神。環球影城VIP專屬入園、清水寺、阿倍野展望台5天\", \"tour\": {}}, {\"agency\": \"startTravel燦星\", \"href\": \"http://www.startravel.com.tw/StarTravel.Web.IGRP.Prod.V2/AProd.aspx?Prod_No=IGRP000016594\", \"prodNo\": \"IGRP000016594\", \"title\": \"關西-高雄出發旅遊 - FUN暑假★★高雄出發~環球影城．清水寺．北野異人館．足湯．阿倍野展望台．神戶牛美食饗宴5日\", \"tour\": {\"day1\": \"高雄小港機場／大阪關西機場→前往飯店休息\", \"day2\": \"清水寺．清水舞台．音羽瀧．二、三年阪－祇園~花見小路→嵐山渡月橋．嵯峨野竹林步道→藝伎回憶錄拍攝場景．千座紅色鳥居．伏見稻荷大社→摩塞克廣場散策\", \"day3\": \"北野異人館街區散策~風見雞館~老洋房中的咖啡香【特別贈送咖啡品嚐】→日本三大古泉~有馬溫泉古街散策~足湯體驗→大阪城公園(不上天守閣)→免稅店→阿倍野HARUKAS上★300展望台贈送阿倍野近鐵百貨購物卷￥2000 (美食購物皆適用)\"}}, {\"agency\": \"startTravel燦星\", \"href\": \"http://www.startravel.com.tw/StarTravel.Web.IGRP.Prod.V2/AProd.aspx?Prod_No=IGRP000016733\", \"prodNo\": \"IGRP000016733\", \"title\": \"關西-高雄出發旅遊 - 高雄出發-日式和服體驗、華麗京阪神5天\", \"tour\": {\"day1\": \"高雄／關西機場~花壽司點心餐盒+飲料(車上享用)~東大寺(米其林三星景點)~梅花鹿公園~箕面溫泉(或橿原皇家或京都)\", \"day2\": \"京都~伏見稻荷大社(藝伎回憶錄)~銀閣寺(世界文化遺產)~日式和服體驗(不含妝髮)~清水寺(米其林三星景點)~音羽瀧~二、三年阪~高瀨川源流餐廳湯豆腐小會席(櫻京都料理亭小會席或南禪寺順正會席料理)~京都\", \"day3\": \"京都~金閣寺(米其林三星景點)~嵐山渡月橋~龜岡小火車(或人力車)~野宮神社~北野異人館(風見雞館)~神戶市役所展望台~摩塞克流行廣場~飯店內用自助晚餐(或神戶港灣自助餐或日式居酒屋料理)~神戶\"}}, {\"agency\": \"startTravel燦星\", \"href\": \"http://www.startravel.com.tw/StarTravel.Web.IGRP.Prod.V2/AProd.aspx?Prod_No=IGRP000011064\", \"prodNo\": \"IGRP000011064\", \"title\": \"關西-高雄出發旅遊 - 高雄出發★神戶布引纜車~~大阪奈良京都環球魔法哈利5日\", \"tour\": {\"day1\": \"高雄→關西空港→神戶布引纜車、香草花園→摩賽克廣場散策→飯店\", \"day2\": \"飯店→嵯峨野小火車或嵐山遊船→孟宗竹林→源氏物語之宮~野宮神社→嵐山渡月橋→★米其林三星評鑑★鹿苑寺→金閣寺→★米其林三星評鑑★世界遺產→清水寺→二年坂→三年坂→飯店\", \"day3\": \"飯店→奈良→若草山梅花鹿公園(安排小鹿餅乾餵食)→世界遺產→★米其林三星評鑑★東大寺→免稅店→心齋橋或美國村散策→飯店\", \"day4\": \"環球影城【哈利波特區─好萊塢區─紐約區─舊金山區─親善村─侏羅紀公園─水世界─魔幻星光大遊行─小朋友專屬不可思議國度的HelloKitty區─芝麻街區─史奴比區】\", \"day5\": \"飯店─關西國際空港／高雄\"}}, {\"agency\": \"startTravel燦星\", \"href\": \"http://www.startravel.com.tw/StarTravel.Web.IGRP.Prod.V2/AProd.aspx?Prod_No=IGRP000016890\", \"prodNo\": \"IGRP000016890\", \"title\": \"關西-高雄出發旅遊 - 高雄出發-淡路島浪漫關西風情、溫泉和歌山5天\", \"tour\": {\"day1\": \"高雄/關西空港~車上享用日式加熱便當+飲料~和歌山城~紅葉溪庭園~和歌山電鐵大人氣貓咪站長~箕面觀光溫泉飯店(或和歌山溫泉)\", \"day2\": \"南部溫泉~奈良東大寺~梅花鹿公園~千座紅色鳥居~伏見稻荷大社(藝伎回憶錄拍攝場景)~清水寺(清水舞台)~音羽瀧~二、三年阪~京都藝術車站~飯店內自助晚餐(或相撲海鮮鍋料理)~京都\", \"day3\": \"京都~金閣寺(米其林三星景點)~嵐山渡月橋~龜岡小火車或嵐山人力車~嵯峨野竹林步道~明石大橋(世界第一吊橋)~花與夢的舞台~奇蹟之星植物館~本福寺水御堂(安藤忠雄設計)~泡湯觀海觀明石大橋\", \"day4\": \"淡路島~海之教堂(安藤忠雄作品)~日式燒肉吃到飽+軟性飲料~免稅商店~大阪城公園(不入天守閣)~大阪水上巴士~心齋橋或道頓堀自由逛街購物~膠原蛋白涮涮鍋+豬肉吃到飽+章魚燒體驗(或飯店內自助晚餐)~大阪\", \"day5\": \"大阪~自由活動~關西機場/高雄\"}}, {\"agency\": \"startTravel燦星\", \"href\": \"http://www.startravel.com.tw/StarTravel.Web.IGRP.Prod.V2/AProd.aspx?Prod_No=IGRP000016833\", \"prodNo\": \"IGRP000016833\", \"title\": \"關西-高雄出發旅遊 - 【香川假期】香川小豆島、廣島道後溫泉饗宴５日(高雄出發)\", \"tour\": {\"day1\": \"高雄小港國際機場/桃園中正國際機場/廣島空港→世界文化遺產：海上大鳥居．宮島．嚴島神社【特贈：宮島特產鮮烤牡蠣】－廣島 \", \"day2\": \"日本的愛琴海：島波海道→生口島．耕三寺→未來心之丘→今治毛巾美術館→夏目漱石名著~少爺~少爺列車→神隱少女湯婆婆的湯屋~少爺機關鐘→道後溫泉古街漫遊→日本三大古湯：道後溫泉\", \"day3\": \"日本三大連丘平山城：松山城+纜車【不上天守閣】→別子銅礦資料館→吉野川泛舟~大步危遊船→海上守護神：金刀比羅宮→丸龜 \", \"day4\": \"搭乘渡輪【高松港-土庄港】→寒霞溪纜車(日本百景，三大溪谷之一)→丸金醬油記念館→二十四瞳~映畫村→魔女宅急便拍攝地：橄欖樹公園→小豆島溫泉\", \"day5\": \"天使~散步道→搭乘渡輪【土庄港-高松港】→米其林三星日本迴遊式庭園：栗林公園→掬月亭茶屋抹茶體驗→綾川AEON→高松空港/桃園中正國際機場/高雄小港國際機場\"}}, {\"agency\": \"startTravel燦星\", \"href\": \"http://www.startravel.com.tw/StarTravel.Web.IGRP.Prod.V2/AProd.aspx?Prod_No=IGRP000016736\", \"prodNo\": \"IGRP000016736\", \"title\": \"關西-高雄出發旅遊 - 香川四國小豆島+岡山淡路島溫泉五日\", \"tour\": {\"day1\": \"高雄小港國際機場~大阪關西國際機場－車賞明石大橋－建築大師安藤忠雄~淡路島夢舞台~海之教堂－南淡路溫泉\", \"day2\": \"鳴門海峽~鳴門大橋展望台~欣賞鳴門渦潮－搭乘渡輪【高松港~土庄港】－寒霞溪纜車~日本百景，三大溪谷之一－丸金醬油記念館－二十四瞳？映畫村－小豆島溫泉\", \"day3\": \"搭乘渡輪【土庄港~岡山港】－日本三大名迴遊式庭園~岡山後樂園－互映百年光陰的迴廊~倉敷美觀地區－車經~瀨戶大橋－丸龜\", \"day4\": \"海上守護神~金刀比羅宮－中野烏龍學校烏龍麵DIY體驗－高知麵包超人博物館－NHK大河劇龍馬傳拍攝現場~幕末志士社中－桂濱公園－大和皇家土佐溫泉\", \"day5\": \"吉野川泛舟~大步危遊船－米其林三星日本迴遊式庭園~栗林公園~掬月亭茶屋抹茶體驗－綾川AEON購物中心－高松/桃園/高雄\"}}, {\"agency\": \"startTravel燦星\", \"href\": \"http://www.startravel.com.tw/StarTravel.Web.IGRP.Prod.V2/AProd.aspx?Prod_No=IGRP000016913\", \"prodNo\": \"IGRP000016913\", \"title\": \"東京-高雄出發旅遊 - 高雄出發~【時尚東京】迪士尼樂園．輕鬆半自助 5天\", \"tour\": {\"day1\": \"高雄小港國際機場/東京成田空港→飯店\"}}, {\"agency\": \"startTravel燦星\", \"href\": \"http://www.startravel.com.tw/StarTravel.Web.IGRP.Prod.V2/AProd.aspx?Prod_No=IGRP000011536\", \"prodNo\": \"IGRP000011536\", \"title\": \"東京-高雄出發旅遊 - 高雄出發-Fun東京~登上晴空塔、迪士尼雙樂園(樂園&海洋)、購物樂五日\", \"tour\": {\"day1\": \"高雄小港國際機場／東京成田國際機場─購物廣場─成田\", \"day2\": \"飯店─迪士尼樂園─飯店\", \"day3\": \"飯店─迪士尼海洋─飯店\", \"day4\": \"飯店─免稅店─登上晴空塔SKY TREE─天空町商店街─淺草觀音寺(仲見世街)─台場DiverCity Tokyo Plaza購物廣場(18米超大鋼彈模型立像)\", \"day5\": \"飯店─東京成田國際機場／高雄小港國際機場\"}}, {\"agency\": \"startTravel燦星\", \"href\": \"http://www.startravel.com.tw/StarTravel.Web.IGRP.Prod.V2/AProd.aspx?Prod_No=IGRP000013750\", \"prodNo\": \"IGRP000013750\", \"title\": \"東京-高雄出發旅遊 - ★高雄出發-花現東京~迪士尼.晴空塔.螃蟹美食5天★\", \"tour\": {\"day1\": \"高雄→成田空港→成田山新勝寺（或）橫濱中華街→購物廣場→飯店\", \"day2\": \"飯店→東京後花園『米其林評鑑三星景點』『明治神宮』→淺草觀音寺『雷門』→參道風光．仲見世商店街→下町風情→2012年開幕『登上晴空塔．360度第一展望台』（或）不可思議迷宮城堡→飯店\", \"day3\": \"飯店→箱根國立公園．山中湖『白鳥號』遊船30分→河口湖．大石公園？薰衣草花季【2016年6/17－7/10】(或)『河口湖香草會館』→免稅店→台場（日劇人氣偶像拍攝地）．DiverCity Tokyo Plaza購物廣場(台場最新的超大型娛樂購物中心,入口高18公尺機動戰士鋼彈模型)．眺望彩虹大橋→飯店\", \"day4\": \"飯店─全日迪士尼海洋或迪士尼夢幻樂園【2選1】(從早到晚停留最久讓您玩得盡興)─搭捷運電車+++地下鐵+++飯店\", \"day5\": \"飯店→自由活動（逛街購物或者洽商、訪友）→成田空港→高雄\"}}, {\"agency\": \"startTravel燦星\", \"href\": \"http://www.startravel.com.tw/StarTravel.Web.IGRP.Prod.V2/AProd.aspx?Prod_No=IGRP000016887\", \"prodNo\": \"IGRP000016887\", \"title\": \"東京-高雄出發旅遊 - 高雄出發-日光世界遺產巡禮、避暑勝地輕井澤、東京五星飯店五日\", \"tour\": {\"day1\": \"高雄／成田機場~橫濱港未來21、紅磚倉庫、LAND MARK購物廣場~橫濱(或東京)\", \"day2\": \"飯店~龍王峽~日光東照宮(世界文化遺產)~二荒山神社~中禪寺湖~華嚴瀑布~鬼怒川溫泉\", \"day3\": \"飯店~伊香保石段街散策~伊香保空中纜車+見晴展望台(眺望榛名高原及上信越群山)~伊香保四大博物館~水澤觀音寺~輕井澤溫泉(或嬬戀溫泉)\", \"day4\": \"飯店~輕井澤銀座通~聖保羅教堂~露天咖啡+蛋糕~免稅店~DIVERCITY TOKYO PLAZA購物廣場(18米超大鋼彈模型)~東京五星飯店\", \"day5\": \"東京~成田機場／高雄\"}}, {\"agency\": \"startTravel燦星\", \"href\": \"http://www.startravel.com.tw/StarTravel.Web.IGRP.Prod.V2/AProd.aspx?Prod_No=IGRP000016599\", \"prodNo\": \"IGRP000016599\", \"title\": \"東京-高雄出發旅遊 - FUN暑假★★高雄出發~迪士尼樂園．八景島樂園．箱根登山纜車賞花溫泉美食饗宴5日\", \"tour\": {\"day1\": \"高雄小港機場／東京成田機場→橫濱拉麵博物館\"}}, {\"agency\": \"startTravel燦星\", \"href\": \"http://www.startravel.com.tw/StarTravel.Web.IGRP.Prod.V2/AProd.aspx?Prod_No=IGRP000012563\", \"prodNo\": \"IGRP000012563\", \"title\": \"北陸-高雄出發旅遊 - 高雄出發-春賞立山。雪之谷、合掌村、兼六園、高山飛驒、輕井澤單車5天\", \"tour\": {\"day1\": \"高雄／成田空港─本栖湖富士芝櫻花季【暫訂 2016年4/16~5/29】(或)德國建築學家著《日本美的再發現》西湖─『根場合掌村』─八岳高原\", \"day2\": \"八岳高原(白樺湖、蓼科、石和)溫泉─神的故鄉★上高地自然秘境之旅★大正池、上高地、河童橋─『米其林二星評鑑』★高山飛驒─上三町、下三町古街散策─世界文化遺產『米其林三星評鑑』★白川鄉合掌村─礪波(富山、金澤) \", \"day3\": \"礪波(富山)─立山黑部阿爾卑斯路線(中部山岳國家公園)─搭乘六種交通工具─立山連峰【電纜車】(或)代行巴士─美女平【高原巴士】─室堂【隧道巴士】─大觀峰【空中纜車】─黑部平【黑部地下纜車】─黑部湖【散策】─黑部水庫【關電山路巴士】─扇澤─松代(長野、輕井澤）\", \"day4\": \"松代(長野、輕井澤)─浪漫歐風小鎮★輕井澤散策─聖保羅教堂散策─『特別贈送』騎乘單車散策於林間小道(或)浪漫咖啡屋喝咖啡─免稅店─台場夜風華(日劇人氣偶像拍攝地)─台場DiverCity Tokyo Plaza購物廣場(超大型高18公尺機動戰士鋼彈模型)─東京 \", \"day5\": \"東京─自由活動─成田空港／高雄\"}}, {\"agency\": \"startTravel燦星\", \"href\": \"http://www.startravel.com.tw/StarTravel.Web.IGRP.Prod.V2/AProd.aspx?Prod_No=IGRP000012839\", \"prodNo\": \"IGRP000012839\", \"title\": \"九州-高雄出發旅遊 - 高雄直飛-九州鐵道之旅、別府纜車、柳川遊船5天\", \"tour\": {\"day1\": \"高雄／福岡─HOTEL CHECK IN\", \"day2\": \"福岡─(JR博多車站+++由布院之森列車+++由布院車站)─鐵道散策之旅(B SPEAK蛋糕甜品)─金鱗湖─九重大吊橋(天空步道)─別府或阿蘇溫泉或杖立溫泉\", \"day3\": \"別府溫泉─血池地獄─別府空中纜車─南阿蘇鐵道之旅(高森車站+++立野車站)─熊本或阿蘇或杖立溫泉\", \"day4\": \"飯店─熊本城(日本三大名城)─柳川遊船─太宰府天滿宮─免稅商店─博多HAKATA車站JR城(自由活動)─福岡\", \"day5\": \"福岡─門司港懷古地區散策(門司港懷舊觀光展望台+舊門司三井俱樂部+門司港車站+舊門司稅關)─海峽廣場─博多運河城─福岡／高雄\"}}, {\"agency\": \"startTravel燦星\", \"href\": \"http://www.startravel.com.tw/StarTravel.Web.IGRP.Prod.V2/AProd.aspx?Prod_No=IGRP000016835\", \"prodNo\": \"IGRP000016835\", \"title\": \"九州-高雄出發旅遊 - 高雄出發~佐賀九州+山口縣.秋芳洞.別府五大溫泉六日\", \"tour\": {\"day1\": \"高雄小港國際機場3F團體櫃台集合~日本九州益城熊本空港－長洲町~有明海郵輪~多比良港~餵食海鷗~欣賞有明港美麗海景—農業與商業的神明~祐德稻荷神社—嬉野溫泉\", \"day2\": \"飯店－有田歐風陶瓷主題樂園~宗政酒造見學品酒—穿越時光兩百年~佐賀城本丸歷史館—橫跨九州第一大河~昇開橋—日本孔廟之稱~供奉日本學問之神~菅原道真？太宰府天滿宮—飯店\", \"day3\": \"飯店－令人難忘的歐洲懷舊風情~門司港懷舊區—日本第二座最長的吊橋~關門大橋—日本最大級別的鐘乳洞~秋芳洞—日本最大的喀斯特台地~秋吉台—日本三大名塔~琉璃光寺五重塔—湯田溫泉 \", \"day4\": \"飯店－馬關條約談判與簽署地點？春帆樓—藥妝免稅購物—唐戶市場？享用河豚定食—         扇城˙中津城—中津和傘—國家珍貴文化遺產？院內龍岩寺—別府溫泉\", \"day5\": \"飯店－鬼斧神工~日本第一湧泉？海地獄—日本女性票選最喜愛的旅遊地？湯布院—夢幻         與魅力之湖？金麟湖—朝日啤酒廠見學—日田古街散策—日田香魚漁測流堰(可自費品嘗 香魚) —羅馬庭園溫泉\", \"day6\": \"飯店－九州最大連鎖購物中心－益城熊本空港 ？ 高雄小港國際機場~溫暖的家 【連鎖電器免稅購物中心】日本九州最大的日本電器專賣店。在此您可自由選購各式各樣的電器用品，並享有免稅的服務。隨後專車前往福岡國際機場，結束這次愉快難忘的日本之旅。 \"}}, {\"agency\": \"startTravel燦星\", \"href\": \"http://www.startravel.com.tw/StarTravel.Web.IGRP.Prod.V2/AProd.aspx?Prod_No=IGRP000016845\", \"prodNo\": \"IGRP000016845\", \"title\": \"九州-高雄出發旅遊 - 高雄出發~篤姬的故鄉~南九州指四大溫泉五日\", \"tour\": {\"day1\": \"高雄小港國際機場3F團體櫃台集合 ？ 日本九州益城熊本空港－水前寺成趣園－八代午茶體驗？白玉屋新三郎家傳飴－霧島溫泉\", \"day2\": \"飯店－九州最美麗的庭園~磯庭園（仙巌園~篤姬物語的拍攝地－NHK大和劇~大奧~篤姬的故鄉~薩摩~鹿兒島~城山公園~俯瞰錦江灣~櫻島美景－九州最大火山湖泊~池田湖－指宿溫泉\", \"day3\": \"飯店－日本最南端半島~長崎鼻－藥妝免稅購物中心—櫻島渡輪－櫻島火山熔岩展望台－日本百選瀑布~關之尾瀑布~世界最大關之尾甌穴群－宮崎\", \"day4\": \"飯店－青島神社~鬼之洗濯板－日本海岸國家公園~日向岬˙馬之背－日本神話之鄉~日本~ 溪谷最佳絕景~高千穗峽－羅馬庭園溫泉 \", \"day5\": \"飯店－九州最大連鎖購物中心－益城熊本空港~高雄小港國際機場~溫暖的家\"}}, {\"agency\": \"startTravel燦星\", \"href\": \"http://www.startravel.com.tw/StarTravel.Web.IGRP.Prod.V2/AProd.aspx?Prod_No=IGRP000011133\", \"prodNo\": \"IGRP000011133\", \"title\": \"沖繩-高雄出發旅遊 - 高雄出發-魅力沖繩。海洋博公園、玉泉洞、琉球村、AEON MALL4天\", \"tour\": {\"day1\": \"高雄／那霸─飯店\", \"day2\": \"飯店─琉球村─山原古木小徑漫步─海洋博公園(美之海水族館、海豚表演)─飯店\", \"day3\": \"飯店─琉球王朝古跡(守禮門、首里城外城)─光伸珍珠KOSHIN PEARL─玉泉洞王國村(琉球大鼓隊表演)─藥粧店─波之上神宮─飯店\", \"day4\": \"飯店─孔子廟─福州園─銀河探險號半潛水艇─永旺夢樂城沖繩來客夢 AEON MALL─那霸機場／高雄\"}}, {\"agency\": \"startTravel燦星\", \"href\": \"http://www.startravel.com.tw/StarTravel.Web.IGRP.Prod.V2/AProd.aspx?Prod_No=IGRP000013326\", \"prodNo\": \"IGRP000013326\", \"title\": \"沖繩-高雄出發旅遊 - 高雄直飛-魅力沖繩。海洋公園、玉泉洞、國際通、贈送半潛水艇5天\", \"tour\": {\"day1\": \"高雄／那霸─飯店\", \"day2\": \"飯店─琉球村─山原古木小徑漫步─海洋博公園(美之海水族館、海豚表演)─飯店\", \"day3\": \"飯店─琉球王朝古跡(守禮門、首里城外城)─珍珠免稅店─玉泉洞王國村(琉球大鼓隊表演)─藥粧店─波之上神宮─飯店\", \"day4\": \"飯店─單軌電車體驗自由活動(交通、午晚餐敬請自理)─飯店\", \"day5\": \"飯店─孔子廟─福州園─銀河探險號半潛水艇─新都心或國際通大道(2選1)─那霸機場／高雄\"}}]}\n"
     ]
    }
   ],
   "source": [
    "#匯入.json\n",
    "with open('/Users/min-go/documents-export-2016-05-27/starTravel燦星.json' , 'r') as f:\n",
    "    starTravel = json.load(f)\n",
    "    print type(starTravel)\n",
    "    print starTravel.keys()[0]\n",
    "    \n",
    "#檢視.json\n",
    "print json.dumps(starTravel, encoding='UTF-8', ensure_ascii=False, sort_keys=True)"
   ]
  },
  {
   "cell_type": "code",
   "execution_count": null,
   "metadata": {
    "collapsed": true
   },
   "outputs": [],
   "source": []
  }
 ],
 "metadata": {
  "kernelspec": {
   "display_name": "Python 2",
   "language": "python",
   "name": "python2"
  },
  "language_info": {
   "codemirror_mode": {
    "name": "ipython",
    "version": 2
   },
   "file_extension": ".py",
   "mimetype": "text/x-python",
   "name": "python",
   "nbconvert_exporter": "python",
   "pygments_lexer": "ipython2",
   "version": "2.7.11"
  }
 },
 "nbformat": 4,
 "nbformat_minor": 0
}
